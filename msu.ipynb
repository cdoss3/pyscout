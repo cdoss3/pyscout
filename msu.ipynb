{
 "cells": [
  {
   "cell_type": "markdown",
   "id": "b1a4d09e-1c11-44b6-9de5-883c8cfaf3be",
   "metadata": {},
   "source": [
    "# PERFORMANCE ANALYSIS\n",
    "\n",
    "### Mississippi State Bulldogs Soccer\n",
    "\n",
    "We're looking at three different groups of game data. Non-conference games played in 2023, conference games played in 2023, and non-conference games played in 2024.\n",
    "\n",
    "In order to successfully analyze the non-conference games in 2024, it would be irresponsible to compare them only to SEC games from 2023, we'll have to look at non-conference games for a good benchmark.\n",
    "\n",
    "The goal is to demonstrate an example workflow for comparing an individual player's performance so far during a current season to metrics gathered from the season before.\n",
    "\n",
    "We'll focus on Ilana Izquierdo."
   ]
  },
  {
   "cell_type": "code",
   "execution_count": 1,
   "id": "53f69c85-c612-4926-9c06-1c05ebb46c25",
   "metadata": {},
   "outputs": [],
   "source": [
    "import json\n",
    "import polars as pl"
   ]
  },
  {
   "cell_type": "code",
   "execution_count": 2,
   "id": "4fd13af1-f0c5-497d-9360-18f3023ee294",
   "metadata": {},
   "outputs": [],
   "source": [
    "# msu will be all MSU players from 2024 non-conference games\n",
    "# msu_all will be all MSU players from 2023 non-conference games\n",
    "# sec will be all SEC players from the 2023 conference games\n",
    "msu = pl.read_csv('../msu_24.csv')\n",
    "# msu_all = pl.read_csv('../msu_23.csv')\n",
    "sec = pl.read_csv('../sec_23.csv')"
   ]
  },
  {
   "cell_type": "code",
   "execution_count": 3,
   "id": "e9615ee5-d885-43e4-a264-0c69ce2627eb",
   "metadata": {},
   "outputs": [
    {
     "data": {
      "text/plain": [
       "(26, 112)"
      ]
     },
     "execution_count": 3,
     "metadata": {},
     "output_type": "execute_result"
    }
   ],
   "source": [
    "msu.shape"
   ]
  },
  {
   "cell_type": "code",
   "execution_count": 4,
   "id": "1b3f4515-e639-4989-bcf6-6837b039fab4",
   "metadata": {},
   "outputs": [
    {
     "data": {
      "text/plain": [
       "(312, 112)"
      ]
     },
     "execution_count": 4,
     "metadata": {},
     "output_type": "execute_result"
    }
   ],
   "source": [
    "sec.shape"
   ]
  },
  {
   "cell_type": "markdown",
   "id": "376d511b-ce7a-4b54-bd8f-f4bbed31cd63",
   "metadata": {},
   "source": [
    "Let's work backwards. We want to analyze individual player performance. We'll start with Ilana. We'll want attacking stats, as well as passing and pressing stats."
   ]
  },
  {
   "cell_type": "code",
   "execution_count": 5,
   "id": "381714f1-2f38-4c3b-a963-30446e643124",
   "metadata": {},
   "outputs": [],
   "source": [
    "# TO-DO\n",
    "# MOVE THIS DICTIONARY TO A JSON FILE\n",
    "\n",
    "columns = {\n",
    "    \"Attacking\": [\n",
    "            \"Player\",\n",
    "            \"Team within selected timeframe\",\n",
    "            \"Matches played\",\n",
    "            \"Minutes played\",\n",
    "            \"xG\",\n",
    "            \"xG per 90\",\n",
    "            \"Goals per 90\",\n",
    "            \"Non-penalty goals\",\n",
    "            \"Non-penalty goals per 90\",\n",
    "            \"xA\",\n",
    "            \"xA per 90\",\n",
    "            \"Assists\",\n",
    "            \"Assists per 90\",\n",
    "            \"Aerial duels per 90\",\n",
    "            \"Aerial duels won, %\",\n",
    "            \"Head goals\",\n",
    "            \"Head goals per 90\",\n",
    "            \"Shots\",\n",
    "            \"Shots per 90\",\n",
    "            \"Shots on target, %\",\n",
    "            \"Goal conversion, %\",\n",
    "            \"Crosses per 90\",\n",
    "            \"Accurate crosses, %\",\n",
    "            \"Crosses to goalie box per 90\",\n",
    "            \"Dribbles per 90\",\n",
    "            \"Successful dribbles, %\",\n",
    "            \"Offensive duels per 90\",\n",
    "            \"Touches in box per 90\",\n",
    "            \"Progressive runs per 90\",\n",
    "            \"Accelerations per 90\",\n",
    "            \"Received passes per 90\",\n",
    "            \"Received long passes per 90\",\n",
    "            \"Fouls suffered per 90\",\n",
    "            \"Passes per 90\",\n",
    "            \"Accurate passes, %\",\n",
    "            \"Forward passes per 90\",\n",
    "            \"Accurate forward passes, %\",\n",
    "            \"Back passes per 90\",\n",
    "            \"Accurate back passes, %\",\n",
    "            \"Lateral passes per 90\",\n",
    "            \"Accurate lateral passes, %\",\n",
    "            \"Short / medium passes per 90\",\n",
    "            \"Accurate short / medium passes, %\",\n",
    "            \"Long passes per 90\",\n",
    "            \"Accurate long passes, %\",\n",
    "            \"Average pass length, m\",\n",
    "            \"Average long pass length, m\",\n",
    "            \"Shot assists per 90\",\n",
    "            \"Second assists per 90\",\n",
    "            \"Third assists per 90\",\n",
    "            \"Smart passes per 90\",\n",
    "            \"Accurate smart passes, %\",\n",
    "            \"Key passes per 90\",\n",
    "            \"Passes to final third per 90\",\n",
    "            \"Accurate passes to final third, %\",\n",
    "            \"Passes to penalty area per 90\",\n",
    "            \"Through passes per 90\",\n",
    "            \"Accurate through passes, %\",\n",
    "            \"Deep completions per 90\",\n",
    "            \"Deep completed crosses per 90\",\n",
    "            \"Progressive passes per 90\",\n",
    "            \"Accurate progressive passes, %\",\n",
    "            \"Free kicks per 90\",\n",
    "            \"Direct free kicks per 90\",\n",
    "            \"Direct free kicks on target, %\",\n",
    "            \"Corners per 90\",\n",
    "            \"Penalties taken\",\n",
    "            \"Penalty conversion, %\",\n",
    "            \"Successful attacking actions per 90\",\n",
    "        ],\n",
    "    \"Passing\": [\n",
    "        \"Placeholder\",\n",
    "        ],\n",
    "    \"Defending\": [\n",
    "        \"Placeholder\",\n",
    "        ],\n",
    "    \"Goalkeeping\": [\n",
    "        \"Placeholder\",\n",
    "        ],\n",
    "    \"Discipline\": [\n",
    "        \"Placeholder\"\n",
    "        ],\n",
    "    \"General\": [\n",
    "        \"Placeholder\"\n",
    "        ],\n",
    "}\n",
    "\n",
    "attacking_columns = columns[\"Attacking\"]\n",
    "\n",
    "# Make sure we don't have columns that aren't in our df\n",
    "for column in attacking_columns:\n",
    "    if column not in msu.columns:\n",
    "        print(\"No match\")"
   ]
  },
  {
   "cell_type": "markdown",
   "id": "e5c7f855-e0a9-4510-844e-59b641797f07",
   "metadata": {},
   "source": [
    "Need dataframes for only our columns"
   ]
  },
  {
   "cell_type": "code",
   "execution_count": 6,
   "id": "51339f65-fbf3-4eb1-af66-0ab67c643f59",
   "metadata": {},
   "outputs": [
    {
     "name": "stdout",
     "output_type": "stream",
     "text": [
      "<class 'polars.dataframe.frame.DataFrame'>\n"
     ]
    }
   ],
   "source": [
    "msu_attacking = msu.select(pl.col(attacking_columns))\n",
    "sec_attacking = sec.select(pl.col(attacking_columns))\n",
    "\n",
    "print(type(msu_attacking))"
   ]
  },
  {
   "cell_type": "markdown",
   "id": "f360358e-d03d-4892-8c8d-9e8cf01d7620",
   "metadata": {},
   "source": [
    "And now, only players who played more than 0 minutes"
   ]
  },
  {
   "cell_type": "code",
   "execution_count": 7,
   "id": "26ef06e9-9eb0-4027-8c1b-09de75f6a9ad",
   "metadata": {},
   "outputs": [
    {
     "data": {
      "text/html": [
       "<div><style>\n",
       ".dataframe > thead > tr,\n",
       ".dataframe > tbody > tr {\n",
       "  text-align: right;\n",
       "  white-space: pre-wrap;\n",
       "}\n",
       "</style>\n",
       "<small>shape: (5, 69)</small><table border=\"1\" class=\"dataframe\"><thead><tr><th>Player</th><th>Team within selected timeframe</th><th>Matches played</th><th>Minutes played</th><th>xG</th><th>xG per 90</th><th>Goals per 90</th><th>Non-penalty goals</th><th>Non-penalty goals per 90</th><th>xA</th><th>xA per 90</th><th>Assists</th><th>Assists per 90</th><th>Aerial duels per 90</th><th>Aerial duels won, %</th><th>Head goals</th><th>Head goals per 90</th><th>Shots</th><th>Shots per 90</th><th>Shots on target, %</th><th>Goal conversion, %</th><th>Crosses per 90</th><th>Accurate crosses, %</th><th>Crosses to goalie box per 90</th><th>Dribbles per 90</th><th>Successful dribbles, %</th><th>Offensive duels per 90</th><th>Touches in box per 90</th><th>Progressive runs per 90</th><th>Accelerations per 90</th><th>Received passes per 90</th><th>Received long passes per 90</th><th>Fouls suffered per 90</th><th>Passes per 90</th><th>Accurate passes, %</th><th>Forward passes per 90</th><th>Accurate forward passes, %</th><th>Back passes per 90</th><th>Accurate back passes, %</th><th>Lateral passes per 90</th><th>Accurate lateral passes, %</th><th>Short / medium passes per 90</th><th>Accurate short / medium passes, %</th><th>Long passes per 90</th><th>Accurate long passes, %</th><th>Average pass length, m</th><th>Average long pass length, m</th><th>Shot assists per 90</th><th>Second assists per 90</th><th>Third assists per 90</th><th>Smart passes per 90</th><th>Accurate smart passes, %</th><th>Key passes per 90</th><th>Passes to final third per 90</th><th>Accurate passes to final third, %</th><th>Passes to penalty area per 90</th><th>Through passes per 90</th><th>Accurate through passes, %</th><th>Deep completions per 90</th><th>Deep completed crosses per 90</th><th>Progressive passes per 90</th><th>Accurate progressive passes, %</th><th>Free kicks per 90</th><th>Direct free kicks per 90</th><th>Direct free kicks on target, %</th><th>Corners per 90</th><th>Penalties taken</th><th>Penalty conversion, %</th><th>Successful attacking actions per 90</th></tr><tr><td>str</td><td>str</td><td>i64</td><td>i64</td><td>f64</td><td>f64</td><td>f64</td><td>i64</td><td>f64</td><td>f64</td><td>f64</td><td>i64</td><td>f64</td><td>f64</td><td>f64</td><td>i64</td><td>f64</td><td>i64</td><td>f64</td><td>f64</td><td>f64</td><td>f64</td><td>f64</td><td>f64</td><td>f64</td><td>f64</td><td>f64</td><td>f64</td><td>f64</td><td>f64</td><td>f64</td><td>f64</td><td>f64</td><td>f64</td><td>f64</td><td>f64</td><td>f64</td><td>f64</td><td>f64</td><td>f64</td><td>f64</td><td>f64</td><td>f64</td><td>f64</td><td>f64</td><td>f64</td><td>f64</td><td>f64</td><td>f64</td><td>f64</td><td>f64</td><td>f64</td><td>f64</td><td>f64</td><td>f64</td><td>f64</td><td>f64</td><td>f64</td><td>f64</td><td>f64</td><td>f64</td><td>f64</td><td>f64</td><td>f64</td><td>f64</td><td>f64</td><td>i64</td><td>f64</td><td>f64</td></tr></thead><tbody><tr><td>&quot;J. Brown&quot;</td><td>&quot;Georgia Bulldogs&quot;</td><td>13</td><td>1271</td><td>0.0</td><td>0.0</td><td>0.0</td><td>0</td><td>0.0</td><td>0.25</td><td>0.02</td><td>0</td><td>0.0</td><td>0.64</td><td>66.67</td><td>0</td><td>0.0</td><td>0</td><td>0.0</td><td>0.0</td><td>0.0</td><td>0.0</td><td>0.0</td><td>0.0</td><td>0.07</td><td>100.0</td><td>0.28</td><td>0.0</td><td>0.0</td><td>0.0</td><td>12.18</td><td>0.0</td><td>0.35</td><td>20.61</td><td>70.79</td><td>12.04</td><td>53.53</td><td>0.0</td><td>0.0</td><td>8.36</td><td>96.61</td><td>11.12</td><td>97.45</td><td>9.35</td><td>40.15</td><td>36.01</td><td>48.78</td><td>0.07</td><td>0.0</td><td>0.0</td><td>0.0</td><td>0.0</td><td>0.07</td><td>3.19</td><td>26.67</td><td>0.21</td><td>0.14</td><td>50.0</td><td>0.07</td><td>0.0</td><td>5.59</td><td>67.09</td><td>null</td><td>null</td><td>null</td><td>0.0</td><td>0</td><td>0.0</td><td>0.07</td></tr><tr><td>&quot;M. Malham&quot;</td><td>&quot;Arkansas Razorbacks&quot;</td><td>13</td><td>1237</td><td>1.39</td><td>0.1</td><td>0.0</td><td>0</td><td>0.0</td><td>0.8</td><td>0.06</td><td>1</td><td>0.07</td><td>2.91</td><td>42.5</td><td>0</td><td>0.0</td><td>6</td><td>0.44</td><td>0.0</td><td>0.0</td><td>1.31</td><td>55.56</td><td>0.29</td><td>0.8</td><td>63.64</td><td>4.22</td><td>0.8</td><td>0.95</td><td>0.22</td><td>9.24</td><td>0.22</td><td>0.58</td><td>25.76</td><td>63.56</td><td>15.72</td><td>57.41</td><td>1.6</td><td>100.0</td><td>5.89</td><td>70.37</td><td>14.55</td><td>72.5</td><td>9.97</td><td>51.09</td><td>23.53</td><td>34.35</td><td>0.51</td><td>0.07</td><td>0.0</td><td>0.07</td><td>100.0</td><td>0.29</td><td>8.15</td><td>58.04</td><td>2.98</td><td>1.75</td><td>20.83</td><td>0.73</td><td>0.73</td><td>9.6</td><td>69.7</td><td>0.07</td><td>0.0</td><td>0.0</td><td>0.0</td><td>0</td><td>0.0</td><td>1.31</td></tr><tr><td>&quot;J. Dunn&quot;</td><td>&quot;Georgia Bulldogs&quot;</td><td>13</td><td>1217</td><td>0.0</td><td>0.0</td><td>0.0</td><td>0</td><td>0.0</td><td>0.0</td><td>0.0</td><td>0</td><td>0.0</td><td>1.7</td><td>56.52</td><td>0</td><td>0.0</td><td>0</td><td>0.0</td><td>0.0</td><td>0.0</td><td>0.15</td><td>0.0</td><td>0.0</td><td>0.67</td><td>55.56</td><td>1.85</td><td>0.0</td><td>0.37</td><td>0.0</td><td>21.45</td><td>0.15</td><td>0.15</td><td>37.79</td><td>83.76</td><td>15.68</td><td>71.23</td><td>1.92</td><td>96.15</td><td>16.79</td><td>95.59</td><td>32.98</td><td>87.89</td><td>4.66</td><td>57.14</td><td>20.75</td><td>29.63</td><td>0.0</td><td>0.0</td><td>0.0</td><td>0.0</td><td>0.0</td><td>0.0</td><td>3.25</td><td>65.91</td><td>0.07</td><td>0.15</td><td>50.0</td><td>0.0</td><td>0.0</td><td>8.65</td><td>54.7</td><td>0.67</td><td>0.0</td><td>0.0</td><td>0.0</td><td>0</td><td>0.0</td><td>0.37</td></tr><tr><td>&quot;I. Izquierdo&quot;</td><td>&quot;Mississippi St. Bulldogs&quot;</td><td>12</td><td>1203</td><td>1.59</td><td>0.12</td><td>0.15</td><td>1</td><td>0.07</td><td>1.6</td><td>0.12</td><td>1</td><td>0.07</td><td>2.62</td><td>25.71</td><td>0</td><td>0.0</td><td>9</td><td>0.67</td><td>55.56</td><td>22.222</td><td>0.3</td><td>50.0</td><td>0.0</td><td>0.75</td><td>40.0</td><td>4.26</td><td>0.67</td><td>0.67</td><td>0.37</td><td>17.88</td><td>0.75</td><td>1.42</td><td>34.79</td><td>76.34</td><td>13.99</td><td>61.5</td><td>5.46</td><td>93.15</td><td>9.28</td><td>84.68</td><td>31.05</td><td>80.72</td><td>3.44</td><td>39.13</td><td>15.34</td><td>24.68</td><td>1.2</td><td>0.15</td><td>0.0</td><td>0.07</td><td>0.0</td><td>0.15</td><td>4.71</td><td>68.25</td><td>1.27</td><td>0.3</td><td>0.0</td><td>0.45</td><td>0.15</td><td>6.13</td><td>52.44</td><td>1.5</td><td>0.15</td><td>0.0</td><td>1.8</td><td>1</td><td>100.0</td><td>0.82</td></tr><tr><td>&quot;M. Anderson&quot;</td><td>&quot;Mississippi St. Bulldogs&quot;</td><td>12</td><td>1203</td><td>0.0</td><td>0.0</td><td>0.0</td><td>0</td><td>0.0</td><td>0.0</td><td>0.0</td><td>0</td><td>0.0</td><td>0.52</td><td>100.0</td><td>0</td><td>0.0</td><td>0</td><td>0.0</td><td>0.0</td><td>0.0</td><td>0.0</td><td>0.0</td><td>0.0</td><td>0.0</td><td>0.0</td><td>0.15</td><td>0.0</td><td>0.0</td><td>0.0</td><td>7.33</td><td>0.07</td><td>0.15</td><td>17.13</td><td>80.79</td><td>10.7</td><td>72.03</td><td>0.07</td><td>0.0</td><td>5.69</td><td>97.37</td><td>8.0</td><td>97.2</td><td>9.13</td><td>66.39</td><td>33.65</td><td>41.02</td><td>0.0</td><td>0.0</td><td>0.0</td><td>0.0</td><td>0.0</td><td>0.0</td><td>1.5</td><td>35.0</td><td>0.07</td><td>0.0</td><td>0.0</td><td>0.07</td><td>0.0</td><td>6.43</td><td>77.91</td><td>null</td><td>null</td><td>null</td><td>0.0</td><td>0</td><td>0.0</td><td>0.0</td></tr></tbody></table></div>"
      ],
      "text/plain": [
       "shape: (5, 69)\n",
       "┌───────────┬───────────┬───────────┬───────────┬───┬───────────┬───────────┬───────────┬──────────┐\n",
       "│ Player    ┆ Team      ┆ Matches   ┆ Minutes   ┆ … ┆ Corners   ┆ Penalties ┆ Penalty   ┆ Successf │\n",
       "│ ---       ┆ within    ┆ played    ┆ played    ┆   ┆ per 90    ┆ taken     ┆ conversio ┆ ul attac │\n",
       "│ str       ┆ selected  ┆ ---       ┆ ---       ┆   ┆ ---       ┆ ---       ┆ n, %      ┆ king     │\n",
       "│           ┆ timeframe ┆ i64       ┆ i64       ┆   ┆ f64       ┆ i64       ┆ ---       ┆ actions  │\n",
       "│           ┆ ---       ┆           ┆           ┆   ┆           ┆           ┆ f64       ┆ p…       │\n",
       "│           ┆ str       ┆           ┆           ┆   ┆           ┆           ┆           ┆ ---      │\n",
       "│           ┆           ┆           ┆           ┆   ┆           ┆           ┆           ┆ f64      │\n",
       "╞═══════════╪═══════════╪═══════════╪═══════════╪═══╪═══════════╪═══════════╪═══════════╪══════════╡\n",
       "│ J. Brown  ┆ Georgia   ┆ 13        ┆ 1271      ┆ … ┆ 0.0       ┆ 0         ┆ 0.0       ┆ 0.07     │\n",
       "│           ┆ Bulldogs  ┆           ┆           ┆   ┆           ┆           ┆           ┆          │\n",
       "│ M. Malham ┆ Arkansas  ┆ 13        ┆ 1237      ┆ … ┆ 0.0       ┆ 0         ┆ 0.0       ┆ 1.31     │\n",
       "│           ┆ Razorback ┆           ┆           ┆   ┆           ┆           ┆           ┆          │\n",
       "│           ┆ s         ┆           ┆           ┆   ┆           ┆           ┆           ┆          │\n",
       "│ J. Dunn   ┆ Georgia   ┆ 13        ┆ 1217      ┆ … ┆ 0.0       ┆ 0         ┆ 0.0       ┆ 0.37     │\n",
       "│           ┆ Bulldogs  ┆           ┆           ┆   ┆           ┆           ┆           ┆          │\n",
       "│ I.        ┆ Mississip ┆ 12        ┆ 1203      ┆ … ┆ 1.8       ┆ 1         ┆ 100.0     ┆ 0.82     │\n",
       "│ Izquierdo ┆ pi St.    ┆           ┆           ┆   ┆           ┆           ┆           ┆          │\n",
       "│           ┆ Bulldogs  ┆           ┆           ┆   ┆           ┆           ┆           ┆          │\n",
       "│ M.        ┆ Mississip ┆ 12        ┆ 1203      ┆ … ┆ 0.0       ┆ 0         ┆ 0.0       ┆ 0.0      │\n",
       "│ Anderson  ┆ pi St.    ┆           ┆           ┆   ┆           ┆           ┆           ┆          │\n",
       "│           ┆ Bulldogs  ┆           ┆           ┆   ┆           ┆           ┆           ┆          │\n",
       "└───────────┴───────────┴───────────┴───────────┴───┴───────────┴───────────┴───────────┴──────────┘"
      ]
     },
     "execution_count": 7,
     "metadata": {},
     "output_type": "execute_result"
    }
   ],
   "source": [
    "msu_attacking = msu_attacking.filter(pl.col(\"Minutes played\") > 0)\n",
    "sec_attacking = sec_attacking.filter(pl.col(\"Minutes played\") > 0)\n",
    "sec_attacking.sort(by=\"Minutes played\", descending=True).head()"
   ]
  },
  {
   "cell_type": "markdown",
   "id": "87d82f99-7caa-4250-b140-73fbf2b3b4b8",
   "metadata": {},
   "source": [
    "Let's think about output. We want some baseline stats as a reference.\n",
    "\n",
    "We'll use medians to help control for outliers in our small dataset."
   ]
  },
  {
   "cell_type": "markdown",
   "id": "c743987b-529c-48d5-8391-cae8b14d8eb9",
   "metadata": {},
   "source": [
    "# MSU SEC AVERAGES FROM 2023\n",
    "\n",
    "Get measures only for performance for MSU players in SEC games in 2023"
   ]
  },
  {
   "cell_type": "code",
   "execution_count": 8,
   "id": "cf6471fb-3734-4e62-aef7-0609f8700685",
   "metadata": {},
   "outputs": [
    {
     "data": {
      "text/html": [
       "<div><style>\n",
       ".dataframe > thead > tr,\n",
       ".dataframe > tbody > tr {\n",
       "  text-align: right;\n",
       "  white-space: pre-wrap;\n",
       "}\n",
       "</style>\n",
       "<small>shape: (5, 69)</small><table border=\"1\" class=\"dataframe\"><thead><tr><th>Player</th><th>Team within selected timeframe</th><th>Matches played</th><th>Minutes played</th><th>xG</th><th>xG per 90</th><th>Goals per 90</th><th>Non-penalty goals</th><th>Non-penalty goals per 90</th><th>xA</th><th>xA per 90</th><th>Assists</th><th>Assists per 90</th><th>Aerial duels per 90</th><th>Aerial duels won, %</th><th>Head goals</th><th>Head goals per 90</th><th>Shots</th><th>Shots per 90</th><th>Shots on target, %</th><th>Goal conversion, %</th><th>Crosses per 90</th><th>Accurate crosses, %</th><th>Crosses to goalie box per 90</th><th>Dribbles per 90</th><th>Successful dribbles, %</th><th>Offensive duels per 90</th><th>Touches in box per 90</th><th>Progressive runs per 90</th><th>Accelerations per 90</th><th>Received passes per 90</th><th>Received long passes per 90</th><th>Fouls suffered per 90</th><th>Passes per 90</th><th>Accurate passes, %</th><th>Forward passes per 90</th><th>Accurate forward passes, %</th><th>Back passes per 90</th><th>Accurate back passes, %</th><th>Lateral passes per 90</th><th>Accurate lateral passes, %</th><th>Short / medium passes per 90</th><th>Accurate short / medium passes, %</th><th>Long passes per 90</th><th>Accurate long passes, %</th><th>Average pass length, m</th><th>Average long pass length, m</th><th>Shot assists per 90</th><th>Second assists per 90</th><th>Third assists per 90</th><th>Smart passes per 90</th><th>Accurate smart passes, %</th><th>Key passes per 90</th><th>Passes to final third per 90</th><th>Accurate passes to final third, %</th><th>Passes to penalty area per 90</th><th>Through passes per 90</th><th>Accurate through passes, %</th><th>Deep completions per 90</th><th>Deep completed crosses per 90</th><th>Progressive passes per 90</th><th>Accurate progressive passes, %</th><th>Free kicks per 90</th><th>Direct free kicks per 90</th><th>Direct free kicks on target, %</th><th>Corners per 90</th><th>Penalties taken</th><th>Penalty conversion, %</th><th>Successful attacking actions per 90</th></tr><tr><td>str</td><td>str</td><td>i64</td><td>i64</td><td>f64</td><td>f64</td><td>f64</td><td>i64</td><td>f64</td><td>f64</td><td>f64</td><td>i64</td><td>f64</td><td>f64</td><td>f64</td><td>i64</td><td>f64</td><td>i64</td><td>f64</td><td>f64</td><td>f64</td><td>f64</td><td>f64</td><td>f64</td><td>f64</td><td>f64</td><td>f64</td><td>f64</td><td>f64</td><td>f64</td><td>f64</td><td>f64</td><td>f64</td><td>f64</td><td>f64</td><td>f64</td><td>f64</td><td>f64</td><td>f64</td><td>f64</td><td>f64</td><td>f64</td><td>f64</td><td>f64</td><td>f64</td><td>f64</td><td>f64</td><td>f64</td><td>f64</td><td>f64</td><td>f64</td><td>f64</td><td>f64</td><td>f64</td><td>f64</td><td>f64</td><td>f64</td><td>f64</td><td>f64</td><td>f64</td><td>f64</td><td>f64</td><td>f64</td><td>f64</td><td>f64</td><td>f64</td><td>i64</td><td>f64</td><td>f64</td></tr></thead><tbody><tr><td>&quot;I. Izquierdo&quot;</td><td>&quot;Mississippi St. Bulldogs&quot;</td><td>12</td><td>1203</td><td>1.59</td><td>0.12</td><td>0.15</td><td>1</td><td>0.07</td><td>1.6</td><td>0.12</td><td>1</td><td>0.07</td><td>2.62</td><td>25.71</td><td>0</td><td>0.0</td><td>9</td><td>0.67</td><td>55.56</td><td>22.222</td><td>0.3</td><td>50.0</td><td>0.0</td><td>0.75</td><td>40.0</td><td>4.26</td><td>0.67</td><td>0.67</td><td>0.37</td><td>17.88</td><td>0.75</td><td>1.42</td><td>34.79</td><td>76.34</td><td>13.99</td><td>61.5</td><td>5.46</td><td>93.15</td><td>9.28</td><td>84.68</td><td>31.05</td><td>80.72</td><td>3.44</td><td>39.13</td><td>15.34</td><td>24.68</td><td>1.2</td><td>0.15</td><td>0.0</td><td>0.07</td><td>0.0</td><td>0.15</td><td>4.71</td><td>68.25</td><td>1.27</td><td>0.3</td><td>0.0</td><td>0.45</td><td>0.15</td><td>6.13</td><td>52.44</td><td>1.5</td><td>0.15</td><td>0.0</td><td>1.8</td><td>1</td><td>100.0</td><td>0.82</td></tr><tr><td>&quot;M. Anderson&quot;</td><td>&quot;Mississippi St. Bulldogs&quot;</td><td>12</td><td>1203</td><td>0.0</td><td>0.0</td><td>0.0</td><td>0</td><td>0.0</td><td>0.0</td><td>0.0</td><td>0</td><td>0.0</td><td>0.52</td><td>100.0</td><td>0</td><td>0.0</td><td>0</td><td>0.0</td><td>0.0</td><td>0.0</td><td>0.0</td><td>0.0</td><td>0.0</td><td>0.0</td><td>0.0</td><td>0.15</td><td>0.0</td><td>0.0</td><td>0.0</td><td>7.33</td><td>0.07</td><td>0.15</td><td>17.13</td><td>80.79</td><td>10.7</td><td>72.03</td><td>0.07</td><td>0.0</td><td>5.69</td><td>97.37</td><td>8.0</td><td>97.2</td><td>9.13</td><td>66.39</td><td>33.65</td><td>41.02</td><td>0.0</td><td>0.0</td><td>0.0</td><td>0.0</td><td>0.0</td><td>0.0</td><td>1.5</td><td>35.0</td><td>0.07</td><td>0.0</td><td>0.0</td><td>0.07</td><td>0.0</td><td>6.43</td><td>77.91</td><td>null</td><td>null</td><td>null</td><td>0.0</td><td>0</td><td>0.0</td><td>0.0</td></tr><tr><td>&quot;R. Combs&quot;</td><td>&quot;Mississippi St. Bulldogs&quot;</td><td>12</td><td>1194</td><td>0.97</td><td>0.07</td><td>0.0</td><td>0</td><td>0.0</td><td>0.0</td><td>0.0</td><td>0</td><td>0.0</td><td>5.8</td><td>54.55</td><td>0</td><td>0.0</td><td>6</td><td>0.45</td><td>0.0</td><td>0.0</td><td>0.0</td><td>0.0</td><td>0.0</td><td>0.0</td><td>0.0</td><td>1.81</td><td>0.45</td><td>0.08</td><td>0.08</td><td>9.12</td><td>0.0</td><td>1.06</td><td>27.29</td><td>71.82</td><td>14.47</td><td>61.46</td><td>1.58</td><td>76.19</td><td>8.74</td><td>87.07</td><td>21.18</td><td>78.29</td><td>6.11</td><td>49.38</td><td>21.28</td><td>32.38</td><td>0.0</td><td>0.0</td><td>0.0</td><td>0.0</td><td>0.0</td><td>0.0</td><td>3.32</td><td>56.82</td><td>0.08</td><td>0.15</td><td>0.0</td><td>0.0</td><td>0.0</td><td>7.01</td><td>46.24</td><td>0.08</td><td>0.0</td><td>0.0</td><td>0.0</td><td>0</td><td>0.0</td><td>0.0</td></tr><tr><td>&quot;R. Mathurin&quot;</td><td>&quot;Mississippi St. Bulldogs&quot;</td><td>12</td><td>1137</td><td>0.03</td><td>0.0</td><td>0.0</td><td>0</td><td>0.0</td><td>0.76</td><td>0.06</td><td>0</td><td>0.0</td><td>0.4</td><td>40.0</td><td>0</td><td>0.0</td><td>1</td><td>0.08</td><td>0.0</td><td>0.0</td><td>1.27</td><td>25.0</td><td>0.08</td><td>1.5</td><td>42.11</td><td>3.4</td><td>0.0</td><td>1.03</td><td>0.16</td><td>13.69</td><td>0.32</td><td>0.24</td><td>27.78</td><td>55.27</td><td>17.65</td><td>50.67</td><td>1.5</td><td>73.68</td><td>5.78</td><td>64.38</td><td>18.21</td><td>65.22</td><td>8.39</td><td>38.68</td><td>21.93</td><td>32.87</td><td>0.55</td><td>0.0</td><td>0.08</td><td>0.08</td><td>0.0</td><td>0.08</td><td>6.02</td><td>47.37</td><td>1.58</td><td>0.71</td><td>11.11</td><td>0.16</td><td>0.32</td><td>10.37</td><td>52.67</td><td>0.16</td><td>0.0</td><td>0.0</td><td>0.63</td><td>0</td><td>0.0</td><td>0.95</td></tr><tr><td>&quot;H. Johnson&quot;</td><td>&quot;Mississippi St. Bulldogs&quot;</td><td>12</td><td>1116</td><td>1.79</td><td>0.14</td><td>0.16</td><td>2</td><td>0.16</td><td>1.31</td><td>0.11</td><td>2</td><td>0.16</td><td>1.61</td><td>30.0</td><td>1</td><td>0.08</td><td>21</td><td>1.69</td><td>38.1</td><td>9.524</td><td>0.97</td><td>33.33</td><td>0.0</td><td>3.06</td><td>50.0</td><td>7.98</td><td>1.61</td><td>1.05</td><td>0.73</td><td>15.56</td><td>1.85</td><td>1.05</td><td>25.73</td><td>65.52</td><td>10.4</td><td>49.61</td><td>3.87</td><td>87.5</td><td>7.26</td><td>63.33</td><td>20.48</td><td>72.44</td><td>4.44</td><td>40.0</td><td>18.16</td><td>33.44</td><td>1.05</td><td>0.0</td><td>0.0</td><td>0.4</td><td>20.0</td><td>0.4</td><td>4.03</td><td>42.0</td><td>1.85</td><td>0.81</td><td>50.0</td><td>0.89</td><td>0.24</td><td>5.97</td><td>62.16</td><td>0.0</td><td>0.0</td><td>0.0</td><td>0.0</td><td>0</td><td>0.0</td><td>2.58</td></tr></tbody></table></div>"
      ],
      "text/plain": [
       "shape: (5, 69)\n",
       "┌───────────┬───────────┬───────────┬───────────┬───┬───────────┬───────────┬───────────┬──────────┐\n",
       "│ Player    ┆ Team      ┆ Matches   ┆ Minutes   ┆ … ┆ Corners   ┆ Penalties ┆ Penalty   ┆ Successf │\n",
       "│ ---       ┆ within    ┆ played    ┆ played    ┆   ┆ per 90    ┆ taken     ┆ conversio ┆ ul attac │\n",
       "│ str       ┆ selected  ┆ ---       ┆ ---       ┆   ┆ ---       ┆ ---       ┆ n, %      ┆ king     │\n",
       "│           ┆ timeframe ┆ i64       ┆ i64       ┆   ┆ f64       ┆ i64       ┆ ---       ┆ actions  │\n",
       "│           ┆ ---       ┆           ┆           ┆   ┆           ┆           ┆ f64       ┆ p…       │\n",
       "│           ┆ str       ┆           ┆           ┆   ┆           ┆           ┆           ┆ ---      │\n",
       "│           ┆           ┆           ┆           ┆   ┆           ┆           ┆           ┆ f64      │\n",
       "╞═══════════╪═══════════╪═══════════╪═══════════╪═══╪═══════════╪═══════════╪═══════════╪══════════╡\n",
       "│ I.        ┆ Mississip ┆ 12        ┆ 1203      ┆ … ┆ 1.8       ┆ 1         ┆ 100.0     ┆ 0.82     │\n",
       "│ Izquierdo ┆ pi St.    ┆           ┆           ┆   ┆           ┆           ┆           ┆          │\n",
       "│           ┆ Bulldogs  ┆           ┆           ┆   ┆           ┆           ┆           ┆          │\n",
       "│ M.        ┆ Mississip ┆ 12        ┆ 1203      ┆ … ┆ 0.0       ┆ 0         ┆ 0.0       ┆ 0.0      │\n",
       "│ Anderson  ┆ pi St.    ┆           ┆           ┆   ┆           ┆           ┆           ┆          │\n",
       "│           ┆ Bulldogs  ┆           ┆           ┆   ┆           ┆           ┆           ┆          │\n",
       "│ R. Combs  ┆ Mississip ┆ 12        ┆ 1194      ┆ … ┆ 0.0       ┆ 0         ┆ 0.0       ┆ 0.0      │\n",
       "│           ┆ pi St.    ┆           ┆           ┆   ┆           ┆           ┆           ┆          │\n",
       "│           ┆ Bulldogs  ┆           ┆           ┆   ┆           ┆           ┆           ┆          │\n",
       "│ R.        ┆ Mississip ┆ 12        ┆ 1137      ┆ … ┆ 0.63      ┆ 0         ┆ 0.0       ┆ 0.95     │\n",
       "│ Mathurin  ┆ pi St.    ┆           ┆           ┆   ┆           ┆           ┆           ┆          │\n",
       "│           ┆ Bulldogs  ┆           ┆           ┆   ┆           ┆           ┆           ┆          │\n",
       "│ H.        ┆ Mississip ┆ 12        ┆ 1116      ┆ … ┆ 0.0       ┆ 0         ┆ 0.0       ┆ 2.58     │\n",
       "│ Johnson   ┆ pi St.    ┆           ┆           ┆   ┆           ┆           ┆           ┆          │\n",
       "│           ┆ Bulldogs  ┆           ┆           ┆   ┆           ┆           ┆           ┆          │\n",
       "└───────────┴───────────┴───────────┴───────────┴───┴───────────┴───────────┴───────────┴──────────┘"
      ]
     },
     "execution_count": 8,
     "metadata": {},
     "output_type": "execute_result"
    }
   ],
   "source": [
    "msu_sec = sec_attacking.filter(pl.col(\"Team within selected timeframe\") == \"Mississippi St. Bulldogs\")\n",
    "msu_sec.head()"
   ]
  },
  {
   "cell_type": "markdown",
   "id": "f7db3e41-786b-481f-b7d9-b3602ebe4b55",
   "metadata": {},
   "source": [
    "Hey. We're having fun, and we're getting somewhere. Look at us."
   ]
  },
  {
   "cell_type": "markdown",
   "id": "a29a438f-2b64-4314-9fb8-fae6217bc607",
   "metadata": {},
   "source": [
    "We need to start looking at averages. Let's get medians for everything and collect them in a dictionary."
   ]
  },
  {
   "cell_type": "code",
   "execution_count": 9,
   "id": "e13598d3-c7c6-417a-9363-ec43b0d52fe6",
   "metadata": {
    "scrolled": true
   },
   "outputs": [
    {
     "name": "stdout",
     "output_type": "stream",
     "text": [
      "{'Player': None, 'Team within selected timeframe': None, 'Matches played': 12.0, 'Minutes played': 751.0, 'xG': 0.33, 'xG per 90': 0.07, 'Goals per 90': 0.0, 'Non-penalty goals': 0.0, 'Non-penalty goals per 90': 0.0, 'xA': 0.18, 'xA per 90': 0.02, 'Assists': 0.0, 'Assists per 90': 0.0, 'Aerial duels per 90': 2.62, 'Aerial duels won, %': 46.15, 'Head goals': 0.0, 'Head goals per 90': 0.0, 'Shots': 5.0, 'Shots per 90': 0.67, 'Shots on target, %': 22.22, 'Goal conversion, %': 0.0, 'Crosses per 90': 0.66, 'Accurate crosses, %': 20.0, 'Crosses to goalie box per 90': 0.0, 'Dribbles per 90': 1.51, 'Successful dribbles, %': 39.13, 'Offensive duels per 90': 7.39, 'Touches in box per 90': 0.84, 'Progressive runs per 90': 1.01, 'Accelerations per 90': 0.34, 'Received passes per 90': 13.28, 'Received long passes per 90': 0.75, 'Fouls suffered per 90': 0.88, 'Passes per 90': 23.49, 'Accurate passes, %': 65.5, 'Forward passes per 90': 9.26, 'Accurate forward passes, %': 53.53, 'Back passes per 90': 2.42, 'Accurate back passes, %': 86.84, 'Lateral passes per 90': 6.57, 'Accurate lateral passes, %': 68.52, 'Short / medium passes per 90': 18.21, 'Accurate short / medium passes, %': 72.44, 'Long passes per 90': 3.44, 'Accurate long passes, %': 40.77, 'Average pass length, m': 18.16, 'Average long pass length, m': 24.68, 'Shot assists per 90': 0.37, 'Second assists per 90': 0.0, 'Third assists per 90': 0.0, 'Smart passes per 90': 0.08, 'Accurate smart passes, %': 0.0, 'Key passes per 90': 0.13, 'Passes to final third per 90': 3.32, 'Accurate passes to final third, %': 44.83, 'Passes to penalty area per 90': 1.27, 'Through passes per 90': 0.34, 'Accurate through passes, %': 0.0, 'Deep completions per 90': 0.33, 'Deep completed crosses per 90': 0.13, 'Progressive passes per 90': 4.62, 'Accurate progressive passes, %': 55.0, 'Free kicks per 90': 0.04, 'Direct free kicks per 90': 0.0, 'Direct free kicks on target, %': 0.0, 'Corners per 90': 0.0, 'Penalties taken': 0.0, 'Penalty conversion, %': 0.0, 'Successful attacking actions per 90': 0.96}\n"
     ]
    }
   ],
   "source": [
    "msu_avgs = {}\n",
    "\n",
    "for column in msu_sec.columns:\n",
    "    if type(column) != 'str':\n",
    "        msu_avgs[column] = msu_sec[column].median()\n",
    "\n",
    "print(msu_avgs)"
   ]
  },
  {
   "cell_type": "markdown",
   "id": "fa3bacae-3c2b-4578-8140-bcdbf244fccc",
   "metadata": {},
   "source": [
    "Then print all the calculated values"
   ]
  },
  {
   "cell_type": "code",
   "execution_count": 10,
   "id": "5c0435e3-1a2a-4316-9302-1070f492b0f5",
   "metadata": {},
   "outputs": [
    {
     "name": "stdout",
     "output_type": "stream",
     "text": [
      "Player: None\n",
      "Team within selected timeframe: None\n",
      "Matches played: 12.0\n",
      "Minutes played: 751.0\n",
      "xG: 0.33\n",
      "xG per 90: 0.07\n",
      "Goals per 90: 0.0\n",
      "Non-penalty goals: 0.0\n",
      "Non-penalty goals per 90: 0.0\n",
      "xA: 0.18\n",
      "xA per 90: 0.02\n",
      "Assists: 0.0\n",
      "Assists per 90: 0.0\n",
      "Aerial duels per 90: 2.62\n",
      "Aerial duels won, %: 46.15\n",
      "Head goals: 0.0\n",
      "Head goals per 90: 0.0\n",
      "Shots: 5.0\n",
      "Shots per 90: 0.67\n",
      "Shots on target, %: 22.22\n",
      "Goal conversion, %: 0.0\n",
      "Crosses per 90: 0.66\n",
      "Accurate crosses, %: 20.0\n",
      "Crosses to goalie box per 90: 0.0\n",
      "Dribbles per 90: 1.51\n",
      "Successful dribbles, %: 39.13\n",
      "Offensive duels per 90: 7.39\n",
      "Touches in box per 90: 0.84\n",
      "Progressive runs per 90: 1.01\n",
      "Accelerations per 90: 0.34\n",
      "Received passes per 90: 13.28\n",
      "Received long passes per 90: 0.75\n",
      "Fouls suffered per 90: 0.88\n",
      "Passes per 90: 23.49\n",
      "Accurate passes, %: 65.5\n",
      "Forward passes per 90: 9.26\n",
      "Accurate forward passes, %: 53.53\n",
      "Back passes per 90: 2.42\n",
      "Accurate back passes, %: 86.84\n",
      "Lateral passes per 90: 6.57\n",
      "Accurate lateral passes, %: 68.52\n",
      "Short / medium passes per 90: 18.21\n",
      "Accurate short / medium passes, %: 72.44\n",
      "Long passes per 90: 3.44\n",
      "Accurate long passes, %: 40.77\n",
      "Average pass length, m: 18.16\n",
      "Average long pass length, m: 24.68\n",
      "Shot assists per 90: 0.37\n",
      "Second assists per 90: 0.0\n",
      "Third assists per 90: 0.0\n",
      "Smart passes per 90: 0.08\n",
      "Accurate smart passes, %: 0.0\n",
      "Key passes per 90: 0.13\n",
      "Passes to final third per 90: 3.32\n",
      "Accurate passes to final third, %: 44.83\n",
      "Passes to penalty area per 90: 1.27\n",
      "Through passes per 90: 0.34\n",
      "Accurate through passes, %: 0.0\n",
      "Deep completions per 90: 0.33\n",
      "Deep completed crosses per 90: 0.13\n",
      "Progressive passes per 90: 4.62\n",
      "Accurate progressive passes, %: 55.0\n",
      "Free kicks per 90: 0.04\n",
      "Direct free kicks per 90: 0.0\n",
      "Direct free kicks on target, %: 0.0\n",
      "Corners per 90: 0.0\n",
      "Penalties taken: 0.0\n",
      "Penalty conversion, %: 0.0\n",
      "Successful attacking actions per 90: 0.96\n"
     ]
    }
   ],
   "source": [
    "for key, value in msu_avgs.items():\n",
    "    print(f\"{key}: {value}\")"
   ]
  },
  {
   "cell_type": "code",
   "execution_count": 11,
   "id": "6a5d321b-b3a0-445d-b94b-a18e5062a604",
   "metadata": {},
   "outputs": [
    {
     "data": {
      "text/html": [
       "<div><style>\n",
       ".dataframe > thead > tr,\n",
       ".dataframe > tbody > tr {\n",
       "  text-align: right;\n",
       "  white-space: pre-wrap;\n",
       "}\n",
       "</style>\n",
       "<small>shape: (5, 69)</small><table border=\"1\" class=\"dataframe\"><thead><tr><th>Player</th><th>Team within selected timeframe</th><th>Matches played</th><th>Minutes played</th><th>xG</th><th>xG per 90</th><th>Goals per 90</th><th>Non-penalty goals</th><th>Non-penalty goals per 90</th><th>xA</th><th>xA per 90</th><th>Assists</th><th>Assists per 90</th><th>Aerial duels per 90</th><th>Aerial duels won, %</th><th>Head goals</th><th>Head goals per 90</th><th>Shots</th><th>Shots per 90</th><th>Shots on target, %</th><th>Goal conversion, %</th><th>Crosses per 90</th><th>Accurate crosses, %</th><th>Crosses to goalie box per 90</th><th>Dribbles per 90</th><th>Successful dribbles, %</th><th>Offensive duels per 90</th><th>Touches in box per 90</th><th>Progressive runs per 90</th><th>Accelerations per 90</th><th>Received passes per 90</th><th>Received long passes per 90</th><th>Fouls suffered per 90</th><th>Passes per 90</th><th>Accurate passes, %</th><th>Forward passes per 90</th><th>Accurate forward passes, %</th><th>Back passes per 90</th><th>Accurate back passes, %</th><th>Lateral passes per 90</th><th>Accurate lateral passes, %</th><th>Short / medium passes per 90</th><th>Accurate short / medium passes, %</th><th>Long passes per 90</th><th>Accurate long passes, %</th><th>Average pass length, m</th><th>Average long pass length, m</th><th>Shot assists per 90</th><th>Second assists per 90</th><th>Third assists per 90</th><th>Smart passes per 90</th><th>Accurate smart passes, %</th><th>Key passes per 90</th><th>Passes to final third per 90</th><th>Accurate passes to final third, %</th><th>Passes to penalty area per 90</th><th>Through passes per 90</th><th>Accurate through passes, %</th><th>Deep completions per 90</th><th>Deep completed crosses per 90</th><th>Progressive passes per 90</th><th>Accurate progressive passes, %</th><th>Free kicks per 90</th><th>Direct free kicks per 90</th><th>Direct free kicks on target, %</th><th>Corners per 90</th><th>Penalties taken</th><th>Penalty conversion, %</th><th>Successful attacking actions per 90</th></tr><tr><td>str</td><td>str</td><td>i64</td><td>i64</td><td>f64</td><td>f64</td><td>f64</td><td>i64</td><td>f64</td><td>f64</td><td>f64</td><td>i64</td><td>f64</td><td>f64</td><td>f64</td><td>i64</td><td>f64</td><td>i64</td><td>f64</td><td>f64</td><td>f64</td><td>f64</td><td>f64</td><td>f64</td><td>f64</td><td>f64</td><td>f64</td><td>f64</td><td>f64</td><td>f64</td><td>f64</td><td>f64</td><td>f64</td><td>f64</td><td>f64</td><td>f64</td><td>f64</td><td>f64</td><td>f64</td><td>f64</td><td>f64</td><td>f64</td><td>f64</td><td>f64</td><td>f64</td><td>f64</td><td>f64</td><td>f64</td><td>f64</td><td>f64</td><td>f64</td><td>f64</td><td>f64</td><td>f64</td><td>f64</td><td>f64</td><td>f64</td><td>f64</td><td>f64</td><td>f64</td><td>f64</td><td>f64</td><td>f64</td><td>f64</td><td>f64</td><td>f64</td><td>i64</td><td>f64</td><td>f64</td></tr></thead><tbody><tr><td>&quot;A. Martinez Montoya&quot;</td><td>&quot;Mississippi St. Bulldogs&quot;</td><td>12</td><td>825</td><td>2.42</td><td>0.26</td><td>0.33</td><td>3</td><td>0.33</td><td>0.78</td><td>0.09</td><td>1</td><td>0.11</td><td>5.24</td><td>27.08</td><td>0</td><td>0.0</td><td>14</td><td>1.53</td><td>50.0</td><td>21.429</td><td>1.09</td><td>20.0</td><td>0.22</td><td>1.85</td><td>35.29</td><td>9.93</td><td>2.62</td><td>1.09</td><td>0.44</td><td>16.36</td><td>3.16</td><td>0.65</td><td>28.8</td><td>62.88</td><td>9.16</td><td>42.86</td><td>4.04</td><td>86.49</td><td>7.96</td><td>68.49</td><td>25.53</td><td>66.24</td><td>2.18</td><td>45.0</td><td>15.09</td><td>21.04</td><td>1.2</td><td>0.0</td><td>0.11</td><td>0.87</td><td>37.5</td><td>0.76</td><td>4.47</td><td>43.9</td><td>2.29</td><td>1.2</td><td>45.45</td><td>0.87</td><td>0.33</td><td>4.36</td><td>55.0</td><td>0.0</td><td>0.0</td><td>0.0</td><td>0.0</td><td>0</td><td>0.0</td><td>1.96</td></tr><tr><td>&quot;H. Johnson&quot;</td><td>&quot;Mississippi St. Bulldogs&quot;</td><td>12</td><td>1116</td><td>1.79</td><td>0.14</td><td>0.16</td><td>2</td><td>0.16</td><td>1.31</td><td>0.11</td><td>2</td><td>0.16</td><td>1.61</td><td>30.0</td><td>1</td><td>0.08</td><td>21</td><td>1.69</td><td>38.1</td><td>9.524</td><td>0.97</td><td>33.33</td><td>0.0</td><td>3.06</td><td>50.0</td><td>7.98</td><td>1.61</td><td>1.05</td><td>0.73</td><td>15.56</td><td>1.85</td><td>1.05</td><td>25.73</td><td>65.52</td><td>10.4</td><td>49.61</td><td>3.87</td><td>87.5</td><td>7.26</td><td>63.33</td><td>20.48</td><td>72.44</td><td>4.44</td><td>40.0</td><td>18.16</td><td>33.44</td><td>1.05</td><td>0.0</td><td>0.0</td><td>0.4</td><td>20.0</td><td>0.4</td><td>4.03</td><td>42.0</td><td>1.85</td><td>0.81</td><td>50.0</td><td>0.89</td><td>0.24</td><td>5.97</td><td>62.16</td><td>0.0</td><td>0.0</td><td>0.0</td><td>0.0</td><td>0</td><td>0.0</td><td>2.58</td></tr><tr><td>&quot;M. Wadsworth&quot;</td><td>&quot;Mississippi St. Bulldogs&quot;</td><td>12</td><td>686</td><td>1.61</td><td>0.21</td><td>0.26</td><td>2</td><td>0.26</td><td>0.28</td><td>0.04</td><td>0</td><td>0.0</td><td>4.07</td><td>32.26</td><td>0</td><td>0.0</td><td>23</td><td>3.02</td><td>47.83</td><td>8.696</td><td>1.18</td><td>11.11</td><td>0.26</td><td>5.12</td><td>74.36</td><td>16.79</td><td>3.15</td><td>3.15</td><td>1.44</td><td>11.81</td><td>3.94</td><td>2.36</td><td>19.81</td><td>53.64</td><td>5.25</td><td>32.5</td><td>4.59</td><td>80.0</td><td>5.77</td><td>45.45</td><td>15.87</td><td>61.16</td><td>2.89</td><td>31.82</td><td>16.97</td><td>25.76</td><td>0.13</td><td>0.13</td><td>0.0</td><td>0.13</td><td>0.0</td><td>0.13</td><td>3.02</td><td>39.13</td><td>2.23</td><td>0.13</td><td>0.0</td><td>0.66</td><td>0.13</td><td>2.23</td><td>41.18</td><td>0.0</td><td>0.0</td><td>0.0</td><td>0.13</td><td>0</td><td>0.0</td><td>5.38</td></tr><tr><td>&quot;I. Izquierdo&quot;</td><td>&quot;Mississippi St. Bulldogs&quot;</td><td>12</td><td>1203</td><td>1.59</td><td>0.12</td><td>0.15</td><td>1</td><td>0.07</td><td>1.6</td><td>0.12</td><td>1</td><td>0.07</td><td>2.62</td><td>25.71</td><td>0</td><td>0.0</td><td>9</td><td>0.67</td><td>55.56</td><td>22.222</td><td>0.3</td><td>50.0</td><td>0.0</td><td>0.75</td><td>40.0</td><td>4.26</td><td>0.67</td><td>0.67</td><td>0.37</td><td>17.88</td><td>0.75</td><td>1.42</td><td>34.79</td><td>76.34</td><td>13.99</td><td>61.5</td><td>5.46</td><td>93.15</td><td>9.28</td><td>84.68</td><td>31.05</td><td>80.72</td><td>3.44</td><td>39.13</td><td>15.34</td><td>24.68</td><td>1.2</td><td>0.15</td><td>0.0</td><td>0.07</td><td>0.0</td><td>0.15</td><td>4.71</td><td>68.25</td><td>1.27</td><td>0.3</td><td>0.0</td><td>0.45</td><td>0.15</td><td>6.13</td><td>52.44</td><td>1.5</td><td>0.15</td><td>0.0</td><td>1.8</td><td>1</td><td>100.0</td><td>0.82</td></tr><tr><td>&quot;R. Combs&quot;</td><td>&quot;Mississippi St. Bulldogs&quot;</td><td>12</td><td>1194</td><td>0.97</td><td>0.07</td><td>0.0</td><td>0</td><td>0.0</td><td>0.0</td><td>0.0</td><td>0</td><td>0.0</td><td>5.8</td><td>54.55</td><td>0</td><td>0.0</td><td>6</td><td>0.45</td><td>0.0</td><td>0.0</td><td>0.0</td><td>0.0</td><td>0.0</td><td>0.0</td><td>0.0</td><td>1.81</td><td>0.45</td><td>0.08</td><td>0.08</td><td>9.12</td><td>0.0</td><td>1.06</td><td>27.29</td><td>71.82</td><td>14.47</td><td>61.46</td><td>1.58</td><td>76.19</td><td>8.74</td><td>87.07</td><td>21.18</td><td>78.29</td><td>6.11</td><td>49.38</td><td>21.28</td><td>32.38</td><td>0.0</td><td>0.0</td><td>0.0</td><td>0.0</td><td>0.0</td><td>0.0</td><td>3.32</td><td>56.82</td><td>0.08</td><td>0.15</td><td>0.0</td><td>0.0</td><td>0.0</td><td>7.01</td><td>46.24</td><td>0.08</td><td>0.0</td><td>0.0</td><td>0.0</td><td>0</td><td>0.0</td><td>0.0</td></tr></tbody></table></div>"
      ],
      "text/plain": [
       "shape: (5, 69)\n",
       "┌───────────┬───────────┬───────────┬───────────┬───┬───────────┬───────────┬───────────┬──────────┐\n",
       "│ Player    ┆ Team      ┆ Matches   ┆ Minutes   ┆ … ┆ Corners   ┆ Penalties ┆ Penalty   ┆ Successf │\n",
       "│ ---       ┆ within    ┆ played    ┆ played    ┆   ┆ per 90    ┆ taken     ┆ conversio ┆ ul attac │\n",
       "│ str       ┆ selected  ┆ ---       ┆ ---       ┆   ┆ ---       ┆ ---       ┆ n, %      ┆ king     │\n",
       "│           ┆ timeframe ┆ i64       ┆ i64       ┆   ┆ f64       ┆ i64       ┆ ---       ┆ actions  │\n",
       "│           ┆ ---       ┆           ┆           ┆   ┆           ┆           ┆ f64       ┆ p…       │\n",
       "│           ┆ str       ┆           ┆           ┆   ┆           ┆           ┆           ┆ ---      │\n",
       "│           ┆           ┆           ┆           ┆   ┆           ┆           ┆           ┆ f64      │\n",
       "╞═══════════╪═══════════╪═══════════╪═══════════╪═══╪═══════════╪═══════════╪═══════════╪══════════╡\n",
       "│ A.        ┆ Mississip ┆ 12        ┆ 825       ┆ … ┆ 0.0       ┆ 0         ┆ 0.0       ┆ 1.96     │\n",
       "│ Martinez  ┆ pi St.    ┆           ┆           ┆   ┆           ┆           ┆           ┆          │\n",
       "│ Montoya   ┆ Bulldogs  ┆           ┆           ┆   ┆           ┆           ┆           ┆          │\n",
       "│ H.        ┆ Mississip ┆ 12        ┆ 1116      ┆ … ┆ 0.0       ┆ 0         ┆ 0.0       ┆ 2.58     │\n",
       "│ Johnson   ┆ pi St.    ┆           ┆           ┆   ┆           ┆           ┆           ┆          │\n",
       "│           ┆ Bulldogs  ┆           ┆           ┆   ┆           ┆           ┆           ┆          │\n",
       "│ M.        ┆ Mississip ┆ 12        ┆ 686       ┆ … ┆ 0.13      ┆ 0         ┆ 0.0       ┆ 5.38     │\n",
       "│ Wadsworth ┆ pi St.    ┆           ┆           ┆   ┆           ┆           ┆           ┆          │\n",
       "│           ┆ Bulldogs  ┆           ┆           ┆   ┆           ┆           ┆           ┆          │\n",
       "│ I.        ┆ Mississip ┆ 12        ┆ 1203      ┆ … ┆ 1.8       ┆ 1         ┆ 100.0     ┆ 0.82     │\n",
       "│ Izquierdo ┆ pi St.    ┆           ┆           ┆   ┆           ┆           ┆           ┆          │\n",
       "│           ┆ Bulldogs  ┆           ┆           ┆   ┆           ┆           ┆           ┆          │\n",
       "│ R. Combs  ┆ Mississip ┆ 12        ┆ 1194      ┆ … ┆ 0.0       ┆ 0         ┆ 0.0       ┆ 0.0      │\n",
       "│           ┆ pi St.    ┆           ┆           ┆   ┆           ┆           ┆           ┆          │\n",
       "│           ┆ Bulldogs  ┆           ┆           ┆   ┆           ┆           ┆           ┆          │\n",
       "└───────────┴───────────┴───────────┴───────────┴───┴───────────┴───────────┴───────────┴──────────┘"
      ]
     },
     "execution_count": 11,
     "metadata": {},
     "output_type": "execute_result"
    }
   ],
   "source": [
    "msu_sec.sort(by=\"xG\", descending=True).head()"
   ]
  },
  {
   "cell_type": "markdown",
   "id": "e9a558dd-dff9-427e-a053-a4b1d14817d6",
   "metadata": {},
   "source": [
    "# MSU CURRENT AVERAGES FROM NON-CONFERENCE 2024\n",
    "\n",
    "Should just actually be copy-paste from above. Less commentary this time."
   ]
  },
  {
   "cell_type": "code",
   "execution_count": 12,
   "id": "fd1f96d3-e4bb-4177-a2a8-36b595dc4462",
   "metadata": {
    "scrolled": true
   },
   "outputs": [
    {
     "name": "stdout",
     "output_type": "stream",
     "text": [
      "Player: None\n",
      "Team within selected timeframe: None\n",
      "Matches played: 6.0\n",
      "Minutes played: 235.0\n",
      "xG: 0.305\n",
      "xG per 90: 0.22999999999999998\n",
      "Goals per 90: 0.0\n",
      "Non-penalty goals: 0.0\n",
      "Non-penalty goals per 90: 0.0\n",
      "xA: 0.03\n",
      "xA per 90: 0.04\n",
      "Assists: 0.0\n",
      "Assists per 90: 0.0\n",
      "Aerial duels per 90: 1.85\n",
      "Aerial duels won, %: 51.925\n",
      "Head goals: 0.0\n",
      "Head goals per 90: 0.0\n",
      "Shots: 2.5\n",
      "Shots per 90: 1.77\n",
      "Shots on target, %: 23.634999999999998\n",
      "Goal conversion, %: 0.0\n",
      "Crosses per 90: 1.54\n",
      "Accurate crosses, %: 38.195\n",
      "Crosses to goalie box per 90: 0.0\n",
      "Dribbles per 90: 1.605\n",
      "Successful dribbles, %: 46.43\n",
      "Offensive duels per 90: 5.945\n",
      "Touches in box per 90: 2.26\n",
      "Progressive runs per 90: 1.63\n",
      "Accelerations per 90: 0.0\n",
      "Received passes per 90: 19.700000000000003\n",
      "Received long passes per 90: 1.5499999999999998\n",
      "Fouls suffered per 90: 0.7050000000000001\n",
      "Passes per 90: 31.485\n",
      "Accurate passes, %: 76.695\n",
      "Forward passes per 90: 10.475000000000001\n",
      "Accurate forward passes, %: 67.235\n",
      "Back passes per 90: 5.46\n",
      "Accurate back passes, %: 94.12\n",
      "Lateral passes per 90: 11.204999999999998\n",
      "Accurate lateral passes, %: 88.16\n",
      "Short / medium passes per 90: 27.134999999999998\n",
      "Accurate short / medium passes, %: 85.655\n",
      "Long passes per 90: 3.9450000000000003\n",
      "Accurate long passes, %: 52.78\n",
      "Average pass length, m: 19.424999999999997\n",
      "Average long pass length, m: 23.08\n",
      "Shot assists per 90: 0.685\n",
      "Second assists per 90: 0.0\n",
      "Third assists per 90: 0.0\n",
      "Smart passes per 90: 0.0\n",
      "Accurate smart passes, %: 0.0\n",
      "Key passes per 90: 0.15\n",
      "Passes to final third per 90: 4.265000000000001\n",
      "Accurate passes to final third, %: 66.28999999999999\n",
      "Passes to penalty area per 90: 1.85\n",
      "Through passes per 90: 0.36\n",
      "Accurate through passes, %: 16.67\n",
      "Deep completions per 90: 0.46499999999999997\n",
      "Deep completed crosses per 90: 0.565\n",
      "Progressive passes per 90: 4.720000000000001\n",
      "Accurate progressive passes, %: 82.28999999999999\n",
      "Free kicks per 90: 0.0\n",
      "Direct free kicks per 90: 0.0\n",
      "Direct free kicks on target, %: 0.0\n",
      "Corners per 90: 0.0\n",
      "Penalties taken: 0.0\n",
      "Penalty conversion, %: 0.0\n",
      "Successful attacking actions per 90: 1.85\n"
     ]
    }
   ],
   "source": [
    "msu_avgs_2 = {}\n",
    "\n",
    "for column in msu_attacking.columns:\n",
    "    if type(column) != 'str':\n",
    "        msu_avgs_2[column] = msu_attacking[column].median()\n",
    "\n",
    "for key, value in msu_avgs_2.items():\n",
    "    print(f\"{key}: {value}\")"
   ]
  },
  {
   "cell_type": "markdown",
   "id": "88b8fc62-2750-48aa-9f63-4dd5ea909584",
   "metadata": {},
   "source": [
    "### Next up\n",
    "\n",
    "Things are working beautifully. We have a framework to be able to compare season totals based on any criteria we feel like. Next, we'll zoom in a bit and look at per-game averages.\n",
    "\n",
    "Let's isolate Ilana's stats from 2023 and from the start of this season"
   ]
  },
  {
   "cell_type": "code",
   "execution_count": 23,
   "id": "b09012e5-1bb5-40ba-b578-09430accfa8a",
   "metadata": {},
   "outputs": [
    {
     "name": "stdout",
     "output_type": "stream",
     "text": [
      "Player: I. Izquierdo\n",
      "Team within selected timeframe: Mississippi St. Bulldogs\n",
      "Matches played: 12\n",
      "Minutes played: 1203\n",
      "xG: 1.59\n",
      "xG per 90: 0.12\n",
      "Goals per 90: 0.15\n",
      "Non-penalty goals: 1\n",
      "Non-penalty goals per 90: 0.07\n",
      "xA: 1.6\n",
      "xA per 90: 0.12\n",
      "Assists: 1\n",
      "Assists per 90: 0.07\n",
      "Aerial duels per 90: 2.62\n",
      "Aerial duels won, %: 25.71\n",
      "Head goals: 0\n",
      "Head goals per 90: 0.0\n",
      "Shots: 9\n",
      "Shots per 90: 0.67\n",
      "Shots on target, %: 55.56\n",
      "Goal conversion, %: 22.222\n",
      "Crosses per 90: 0.3\n",
      "Accurate crosses, %: 50.0\n",
      "Crosses to goalie box per 90: 0.0\n",
      "Dribbles per 90: 0.75\n",
      "Successful dribbles, %: 40.0\n",
      "Offensive duels per 90: 4.26\n",
      "Touches in box per 90: 0.67\n",
      "Progressive runs per 90: 0.67\n",
      "Accelerations per 90: 0.37\n",
      "Received passes per 90: 17.88\n",
      "Received long passes per 90: 0.75\n",
      "Fouls suffered per 90: 1.42\n",
      "Passes per 90: 34.79\n",
      "Accurate passes, %: 76.34\n",
      "Forward passes per 90: 13.99\n",
      "Accurate forward passes, %: 61.5\n",
      "Back passes per 90: 5.46\n",
      "Accurate back passes, %: 93.15\n",
      "Lateral passes per 90: 9.28\n",
      "Accurate lateral passes, %: 84.68\n",
      "Short / medium passes per 90: 31.05\n",
      "Accurate short / medium passes, %: 80.72\n",
      "Long passes per 90: 3.44\n",
      "Accurate long passes, %: 39.13\n",
      "Average pass length, m: 15.34\n",
      "Average long pass length, m: 24.68\n",
      "Shot assists per 90: 1.2\n",
      "Second assists per 90: 0.15\n",
      "Third assists per 90: 0.0\n",
      "Smart passes per 90: 0.07\n",
      "Accurate smart passes, %: 0.0\n",
      "Key passes per 90: 0.15\n",
      "Passes to final third per 90: 4.71\n",
      "Accurate passes to final third, %: 68.25\n",
      "Passes to penalty area per 90: 1.27\n",
      "Through passes per 90: 0.3\n",
      "Accurate through passes, %: 0.0\n",
      "Deep completions per 90: 0.45\n",
      "Deep completed crosses per 90: 0.15\n",
      "Progressive passes per 90: 6.13\n",
      "Accurate progressive passes, %: 52.44\n",
      "Free kicks per 90: 1.5\n",
      "Direct free kicks per 90: 0.15\n",
      "Direct free kicks on target, %: 0.0\n",
      "Corners per 90: 1.8\n",
      "Penalties taken: 1\n",
      "Penalty conversion, %: 100.0\n",
      "Successful attacking actions per 90: 0.82\n"
     ]
    }
   ],
   "source": [
    "ilana_23 = msu_sec.row(by_predicate=(pl.col(\"Player\") == \"I. Izquierdo\"), named=True)\n",
    "\n",
    "for key, value in ilana_23.items():\n",
    "    print(f\"{key}: {value}\")"
   ]
  },
  {
   "cell_type": "markdown",
   "id": "562eb7cd-205e-4163-ad5a-d42abab986f1",
   "metadata": {},
   "source": [
    "Here, we're going to branch to another file. These datasets are geared towards evaluating team performance. I want to compare Ilana's against the rest of the team as well as the rest of the league.\n",
    "\n",
    "Thus, we move forward here collecting good averages to compare to."
   ]
  }
 ],
 "metadata": {
  "kernelspec": {
   "display_name": "Python 3 (ipykernel)",
   "language": "python",
   "name": "python3"
  },
  "language_info": {
   "codemirror_mode": {
    "name": "ipython",
    "version": 3
   },
   "file_extension": ".py",
   "mimetype": "text/x-python",
   "name": "python",
   "nbconvert_exporter": "python",
   "pygments_lexer": "ipython3",
   "version": "3.12.6"
  }
 },
 "nbformat": 4,
 "nbformat_minor": 5
}
