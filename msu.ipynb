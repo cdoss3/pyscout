{
 "cells": [
  {
   "cell_type": "markdown",
   "id": "b1a4d09e-1c11-44b6-9de5-883c8cfaf3be",
   "metadata": {},
   "source": [
    "# PERFORMANCE ANALYSIS\n",
    "\n",
    "### Mississippi State Bulldogs Soccer\n",
    "\n",
    "We're looking at three different groups of game data. Non-conference games played in 2023, conference games played in 2023, and non-conference games played in 2024.\n",
    "\n",
    "In order to successfully analyze the non-conference games in 2024, it would be irresponsible to compare them only to SEC games from 2023, we'll have to look at non-conference games for a good benchmark.\n",
    "\n",
    "The goal is to demonstrate an example workflow for comparing an individual player's performance so far during a current season to metrics gathered from the season before.\n",
    "\n",
    "We'll focus on Ilana Izquierdo."
   ]
  },
  {
   "cell_type": "code",
   "execution_count": 1,
   "id": "53f69c85-c612-4926-9c06-1c05ebb46c25",
   "metadata": {},
   "outputs": [],
   "source": [
    "import json\n",
    "import polars as pl"
   ]
  },
  {
   "cell_type": "code",
   "execution_count": 2,
   "id": "4fd13af1-f0c5-497d-9360-18f3023ee294",
   "metadata": {},
   "outputs": [],
   "source": [
    "# msu will be all MSU players from 2024 non-conference games\n",
    "# msu_all will be all MSU players from 2023 non-conference games\n",
    "# sec will be all SEC players from the 2023 conference games\n",
    "msu = pl.read_csv('../msu_24.csv')\n",
    "# msu_all = pl.read_csv('../msu_23.csv')\n",
    "sec = pl.read_csv('../sec_23.csv')"
   ]
  },
  {
   "cell_type": "code",
   "execution_count": 3,
   "id": "e9615ee5-d885-43e4-a264-0c69ce2627eb",
   "metadata": {},
   "outputs": [
    {
     "data": {
      "text/plain": [
       "(26, 112)"
      ]
     },
     "execution_count": 3,
     "metadata": {},
     "output_type": "execute_result"
    }
   ],
   "source": [
    "msu.shape"
   ]
  },
  {
   "cell_type": "code",
   "execution_count": 4,
   "id": "1b3f4515-e639-4989-bcf6-6837b039fab4",
   "metadata": {},
   "outputs": [
    {
     "data": {
      "text/plain": [
       "(312, 112)"
      ]
     },
     "execution_count": 4,
     "metadata": {},
     "output_type": "execute_result"
    }
   ],
   "source": [
    "sec.shape"
   ]
  },
  {
   "cell_type": "markdown",
   "id": "376d511b-ce7a-4b54-bd8f-f4bbed31cd63",
   "metadata": {},
   "source": [
    "Let's work backwards. We want to analyze individual player performance. We'll start with Ilana. We'll want attacking stats, as well as passing and pressing stats."
   ]
  },
  {
   "cell_type": "code",
   "execution_count": 5,
   "id": "381714f1-2f38-4c3b-a963-30446e643124",
   "metadata": {},
   "outputs": [],
   "source": [
    "# TO-DO\n",
    "# MOVE THIS DICTIONARY TO A JSON FILE\n",
    "\n",
    "columns = {\n",
    "    \"Attacking\": [\n",
    "            \"Player\",\n",
    "            \"Team within selected timeframe\",\n",
    "            \"Matches played\",\n",
    "            \"Minutes played\",\n",
    "            \"xG\",\n",
    "            \"xG per 90\",\n",
    "            \"Goals per 90\",\n",
    "            \"Non-penalty goals\",\n",
    "            \"Non-penalty goals per 90\",\n",
    "            \"xA\",\n",
    "            \"xA per 90\",\n",
    "            \"Assists\",\n",
    "            \"Assists per 90\",\n",
    "            \"Aerial duels per 90\",\n",
    "            \"Aerial duels won, %\",\n",
    "            \"Head goals\",\n",
    "            \"Head goals per 90\",\n",
    "            \"Shots\",\n",
    "            \"Shots per 90\",\n",
    "            \"Shots on target, %\",\n",
    "            \"Goal conversion, %\",\n",
    "            \"Crosses per 90\",\n",
    "            \"Accurate crosses, %\",\n",
    "            \"Crosses to goalie box per 90\",\n",
    "            \"Dribbles per 90\",\n",
    "            \"Successful dribbles, %\",\n",
    "            \"Offensive duels per 90\",\n",
    "            \"Touches in box per 90\",\n",
    "            \"Progressive runs per 90\",\n",
    "            \"Accelerations per 90\",\n",
    "            \"Received passes per 90\",\n",
    "            \"Received long passes per 90\",\n",
    "            \"Fouls suffered per 90\",\n",
    "            \"Passes per 90\",\n",
    "            \"Accurate passes, %\",\n",
    "            \"Forward passes per 90\",\n",
    "            \"Accurate forward passes, %\",\n",
    "            \"Back passes per 90\",\n",
    "            \"Accurate back passes, %\",\n",
    "            \"Lateral passes per 90\",\n",
    "            \"Accurate lateral passes, %\",\n",
    "            \"Short / medium passes per 90\",\n",
    "            \"Accurate short / medium passes, %\",\n",
    "            \"Long passes per 90\",\n",
    "            \"Accurate long passes, %\",\n",
    "            \"Average pass length, m\",\n",
    "            \"Average long pass length, m\",\n",
    "            \"Shot assists per 90\",\n",
    "            \"Second assists per 90\",\n",
    "            \"Third assists per 90\",\n",
    "            \"Smart passes per 90\",\n",
    "            \"Accurate smart passes, %\",\n",
    "            \"Key passes per 90\",\n",
    "            \"Passes to final third per 90\",\n",
    "            \"Accurate passes to final third, %\",\n",
    "            \"Passes to penalty area per 90\",\n",
    "            \"Through passes per 90\",\n",
    "            \"Accurate through passes, %\",\n",
    "            \"Deep completions per 90\",\n",
    "            \"Deep completed crosses per 90\",\n",
    "            \"Progressive passes per 90\",\n",
    "            \"Accurate progressive passes, %\",\n",
    "            \"Free kicks per 90\",\n",
    "            \"Direct free kicks per 90\",\n",
    "            \"Direct free kicks on target, %\",\n",
    "            \"Corners per 90\",\n",
    "            \"Penalties taken\",\n",
    "            \"Penalty conversion, %\",\n",
    "            \"Successful attacking actions per 90\",\n",
    "        ],\n",
    "    \"Passing\": [\n",
    "        \"Placeholder\",\n",
    "        ],\n",
    "    \"Defending\": [\n",
    "        \"Placeholder\",\n",
    "        ],\n",
    "    \"Goalkeeping\": [\n",
    "        \"Placeholder\",\n",
    "        ],\n",
    "    \"Discipline\": [\n",
    "        \"Placeholder\"\n",
    "        ],\n",
    "    \"General\": [\n",
    "        \"Placeholder\"\n",
    "        ],\n",
    "}\n",
    "\n",
    "attacking_columns = columns[\"Attacking\"]\n",
    "\n",
    "# Make sure we don't have columns that aren't in our df\n",
    "for column in attacking_columns:\n",
    "    if column not in msu.columns:\n",
    "        print(\"No match\")"
   ]
  },
  {
   "cell_type": "markdown",
   "id": "e5c7f855-e0a9-4510-844e-59b641797f07",
   "metadata": {},
   "source": [
    "Need dataframes for only our columns"
   ]
  },
  {
   "cell_type": "code",
   "execution_count": 6,
   "id": "51339f65-fbf3-4eb1-af66-0ab67c643f59",
   "metadata": {},
   "outputs": [
    {
     "name": "stdout",
     "output_type": "stream",
     "text": [
      "<class 'polars.dataframe.frame.DataFrame'>\n"
     ]
    }
   ],
   "source": [
    "msu_attacking = msu.select(pl.col(attacking_columns))\n",
    "sec_attacking = sec.select(pl.col(attacking_columns))\n",
    "\n",
    "print(type(msu_attacking))"
   ]
  },
  {
   "cell_type": "markdown",
   "id": "f360358e-d03d-4892-8c8d-9e8cf01d7620",
   "metadata": {},
   "source": [
    "And now, only players who played more than 0 minutes"
   ]
  },
  {
   "cell_type": "code",
   "execution_count": 7,
   "id": "26ef06e9-9eb0-4027-8c1b-09de75f6a9ad",
   "metadata": {},
   "outputs": [
    {
     "data": {
      "text/html": [
       "<div><style>\n",
       ".dataframe > thead > tr,\n",
       ".dataframe > tbody > tr {\n",
       "  text-align: right;\n",
       "  white-space: pre-wrap;\n",
       "}\n",
       "</style>\n",
       "<small>shape: (5, 69)</small><table border=\"1\" class=\"dataframe\"><thead><tr><th>Player</th><th>Team within selected timeframe</th><th>Matches played</th><th>Minutes played</th><th>xG</th><th>xG per 90</th><th>Goals per 90</th><th>Non-penalty goals</th><th>Non-penalty goals per 90</th><th>xA</th><th>xA per 90</th><th>Assists</th><th>Assists per 90</th><th>Aerial duels per 90</th><th>Aerial duels won, %</th><th>Head goals</th><th>Head goals per 90</th><th>Shots</th><th>Shots per 90</th><th>Shots on target, %</th><th>Goal conversion, %</th><th>Crosses per 90</th><th>Accurate crosses, %</th><th>Crosses to goalie box per 90</th><th>Dribbles per 90</th><th>Successful dribbles, %</th><th>Offensive duels per 90</th><th>Touches in box per 90</th><th>Progressive runs per 90</th><th>Accelerations per 90</th><th>Received passes per 90</th><th>Received long passes per 90</th><th>Fouls suffered per 90</th><th>Passes per 90</th><th>Accurate passes, %</th><th>Forward passes per 90</th><th>Accurate forward passes, %</th><th>Back passes per 90</th><th>Accurate back passes, %</th><th>Lateral passes per 90</th><th>Accurate lateral passes, %</th><th>Short / medium passes per 90</th><th>Accurate short / medium passes, %</th><th>Long passes per 90</th><th>Accurate long passes, %</th><th>Average pass length, m</th><th>Average long pass length, m</th><th>Shot assists per 90</th><th>Second assists per 90</th><th>Third assists per 90</th><th>Smart passes per 90</th><th>Accurate smart passes, %</th><th>Key passes per 90</th><th>Passes to final third per 90</th><th>Accurate passes to final third, %</th><th>Passes to penalty area per 90</th><th>Through passes per 90</th><th>Accurate through passes, %</th><th>Deep completions per 90</th><th>Deep completed crosses per 90</th><th>Progressive passes per 90</th><th>Accurate progressive passes, %</th><th>Free kicks per 90</th><th>Direct free kicks per 90</th><th>Direct free kicks on target, %</th><th>Corners per 90</th><th>Penalties taken</th><th>Penalty conversion, %</th><th>Successful attacking actions per 90</th></tr><tr><td>str</td><td>str</td><td>i64</td><td>i64</td><td>f64</td><td>f64</td><td>f64</td><td>i64</td><td>f64</td><td>f64</td><td>f64</td><td>i64</td><td>f64</td><td>f64</td><td>f64</td><td>i64</td><td>f64</td><td>i64</td><td>f64</td><td>f64</td><td>f64</td><td>f64</td><td>f64</td><td>f64</td><td>f64</td><td>f64</td><td>f64</td><td>f64</td><td>f64</td><td>f64</td><td>f64</td><td>f64</td><td>f64</td><td>f64</td><td>f64</td><td>f64</td><td>f64</td><td>f64</td><td>f64</td><td>f64</td><td>f64</td><td>f64</td><td>f64</td><td>f64</td><td>f64</td><td>f64</td><td>f64</td><td>f64</td><td>f64</td><td>f64</td><td>f64</td><td>f64</td><td>f64</td><td>f64</td><td>f64</td><td>f64</td><td>f64</td><td>f64</td><td>f64</td><td>f64</td><td>f64</td><td>f64</td><td>f64</td><td>f64</td><td>f64</td><td>f64</td><td>i64</td><td>f64</td><td>f64</td></tr></thead><tbody><tr><td>&quot;J. Brown&quot;</td><td>&quot;Georgia Bulldogs&quot;</td><td>13</td><td>1271</td><td>0.0</td><td>0.0</td><td>0.0</td><td>0</td><td>0.0</td><td>0.25</td><td>0.02</td><td>0</td><td>0.0</td><td>0.64</td><td>66.67</td><td>0</td><td>0.0</td><td>0</td><td>0.0</td><td>0.0</td><td>0.0</td><td>0.0</td><td>0.0</td><td>0.0</td><td>0.07</td><td>100.0</td><td>0.28</td><td>0.0</td><td>0.0</td><td>0.0</td><td>12.18</td><td>0.0</td><td>0.35</td><td>20.61</td><td>70.79</td><td>12.04</td><td>53.53</td><td>0.0</td><td>0.0</td><td>8.36</td><td>96.61</td><td>11.12</td><td>97.45</td><td>9.35</td><td>40.15</td><td>36.01</td><td>48.78</td><td>0.07</td><td>0.0</td><td>0.0</td><td>0.0</td><td>0.0</td><td>0.07</td><td>3.19</td><td>26.67</td><td>0.21</td><td>0.14</td><td>50.0</td><td>0.07</td><td>0.0</td><td>5.59</td><td>67.09</td><td>null</td><td>null</td><td>null</td><td>0.0</td><td>0</td><td>0.0</td><td>0.07</td></tr><tr><td>&quot;M. Malham&quot;</td><td>&quot;Arkansas Razorbacks&quot;</td><td>13</td><td>1237</td><td>1.39</td><td>0.1</td><td>0.0</td><td>0</td><td>0.0</td><td>0.8</td><td>0.06</td><td>1</td><td>0.07</td><td>2.91</td><td>42.5</td><td>0</td><td>0.0</td><td>6</td><td>0.44</td><td>0.0</td><td>0.0</td><td>1.31</td><td>55.56</td><td>0.29</td><td>0.8</td><td>63.64</td><td>4.22</td><td>0.8</td><td>0.95</td><td>0.22</td><td>9.24</td><td>0.22</td><td>0.58</td><td>25.76</td><td>63.56</td><td>15.72</td><td>57.41</td><td>1.6</td><td>100.0</td><td>5.89</td><td>70.37</td><td>14.55</td><td>72.5</td><td>9.97</td><td>51.09</td><td>23.53</td><td>34.35</td><td>0.51</td><td>0.07</td><td>0.0</td><td>0.07</td><td>100.0</td><td>0.29</td><td>8.15</td><td>58.04</td><td>2.98</td><td>1.75</td><td>20.83</td><td>0.73</td><td>0.73</td><td>9.6</td><td>69.7</td><td>0.07</td><td>0.0</td><td>0.0</td><td>0.0</td><td>0</td><td>0.0</td><td>1.31</td></tr><tr><td>&quot;J. Dunn&quot;</td><td>&quot;Georgia Bulldogs&quot;</td><td>13</td><td>1217</td><td>0.0</td><td>0.0</td><td>0.0</td><td>0</td><td>0.0</td><td>0.0</td><td>0.0</td><td>0</td><td>0.0</td><td>1.7</td><td>56.52</td><td>0</td><td>0.0</td><td>0</td><td>0.0</td><td>0.0</td><td>0.0</td><td>0.15</td><td>0.0</td><td>0.0</td><td>0.67</td><td>55.56</td><td>1.85</td><td>0.0</td><td>0.37</td><td>0.0</td><td>21.45</td><td>0.15</td><td>0.15</td><td>37.79</td><td>83.76</td><td>15.68</td><td>71.23</td><td>1.92</td><td>96.15</td><td>16.79</td><td>95.59</td><td>32.98</td><td>87.89</td><td>4.66</td><td>57.14</td><td>20.75</td><td>29.63</td><td>0.0</td><td>0.0</td><td>0.0</td><td>0.0</td><td>0.0</td><td>0.0</td><td>3.25</td><td>65.91</td><td>0.07</td><td>0.15</td><td>50.0</td><td>0.0</td><td>0.0</td><td>8.65</td><td>54.7</td><td>0.67</td><td>0.0</td><td>0.0</td><td>0.0</td><td>0</td><td>0.0</td><td>0.37</td></tr><tr><td>&quot;I. Izquierdo&quot;</td><td>&quot;Mississippi St. Bulldogs&quot;</td><td>12</td><td>1203</td><td>1.59</td><td>0.12</td><td>0.15</td><td>1</td><td>0.07</td><td>1.6</td><td>0.12</td><td>1</td><td>0.07</td><td>2.62</td><td>25.71</td><td>0</td><td>0.0</td><td>9</td><td>0.67</td><td>55.56</td><td>22.222</td><td>0.3</td><td>50.0</td><td>0.0</td><td>0.75</td><td>40.0</td><td>4.26</td><td>0.67</td><td>0.67</td><td>0.37</td><td>17.88</td><td>0.75</td><td>1.42</td><td>34.79</td><td>76.34</td><td>13.99</td><td>61.5</td><td>5.46</td><td>93.15</td><td>9.28</td><td>84.68</td><td>31.05</td><td>80.72</td><td>3.44</td><td>39.13</td><td>15.34</td><td>24.68</td><td>1.2</td><td>0.15</td><td>0.0</td><td>0.07</td><td>0.0</td><td>0.15</td><td>4.71</td><td>68.25</td><td>1.27</td><td>0.3</td><td>0.0</td><td>0.45</td><td>0.15</td><td>6.13</td><td>52.44</td><td>1.5</td><td>0.15</td><td>0.0</td><td>1.8</td><td>1</td><td>100.0</td><td>0.82</td></tr><tr><td>&quot;M. Anderson&quot;</td><td>&quot;Mississippi St. Bulldogs&quot;</td><td>12</td><td>1203</td><td>0.0</td><td>0.0</td><td>0.0</td><td>0</td><td>0.0</td><td>0.0</td><td>0.0</td><td>0</td><td>0.0</td><td>0.52</td><td>100.0</td><td>0</td><td>0.0</td><td>0</td><td>0.0</td><td>0.0</td><td>0.0</td><td>0.0</td><td>0.0</td><td>0.0</td><td>0.0</td><td>0.0</td><td>0.15</td><td>0.0</td><td>0.0</td><td>0.0</td><td>7.33</td><td>0.07</td><td>0.15</td><td>17.13</td><td>80.79</td><td>10.7</td><td>72.03</td><td>0.07</td><td>0.0</td><td>5.69</td><td>97.37</td><td>8.0</td><td>97.2</td><td>9.13</td><td>66.39</td><td>33.65</td><td>41.02</td><td>0.0</td><td>0.0</td><td>0.0</td><td>0.0</td><td>0.0</td><td>0.0</td><td>1.5</td><td>35.0</td><td>0.07</td><td>0.0</td><td>0.0</td><td>0.07</td><td>0.0</td><td>6.43</td><td>77.91</td><td>null</td><td>null</td><td>null</td><td>0.0</td><td>0</td><td>0.0</td><td>0.0</td></tr></tbody></table></div>"
      ],
      "text/plain": [
       "shape: (5, 69)\n",
       "┌───────────┬───────────┬───────────┬───────────┬───┬───────────┬───────────┬───────────┬──────────┐\n",
       "│ Player    ┆ Team      ┆ Matches   ┆ Minutes   ┆ … ┆ Corners   ┆ Penalties ┆ Penalty   ┆ Successf │\n",
       "│ ---       ┆ within    ┆ played    ┆ played    ┆   ┆ per 90    ┆ taken     ┆ conversio ┆ ul attac │\n",
       "│ str       ┆ selected  ┆ ---       ┆ ---       ┆   ┆ ---       ┆ ---       ┆ n, %      ┆ king     │\n",
       "│           ┆ timeframe ┆ i64       ┆ i64       ┆   ┆ f64       ┆ i64       ┆ ---       ┆ actions  │\n",
       "│           ┆ ---       ┆           ┆           ┆   ┆           ┆           ┆ f64       ┆ p…       │\n",
       "│           ┆ str       ┆           ┆           ┆   ┆           ┆           ┆           ┆ ---      │\n",
       "│           ┆           ┆           ┆           ┆   ┆           ┆           ┆           ┆ f64      │\n",
       "╞═══════════╪═══════════╪═══════════╪═══════════╪═══╪═══════════╪═══════════╪═══════════╪══════════╡\n",
       "│ J. Brown  ┆ Georgia   ┆ 13        ┆ 1271      ┆ … ┆ 0.0       ┆ 0         ┆ 0.0       ┆ 0.07     │\n",
       "│           ┆ Bulldogs  ┆           ┆           ┆   ┆           ┆           ┆           ┆          │\n",
       "│ M. Malham ┆ Arkansas  ┆ 13        ┆ 1237      ┆ … ┆ 0.0       ┆ 0         ┆ 0.0       ┆ 1.31     │\n",
       "│           ┆ Razorback ┆           ┆           ┆   ┆           ┆           ┆           ┆          │\n",
       "│           ┆ s         ┆           ┆           ┆   ┆           ┆           ┆           ┆          │\n",
       "│ J. Dunn   ┆ Georgia   ┆ 13        ┆ 1217      ┆ … ┆ 0.0       ┆ 0         ┆ 0.0       ┆ 0.37     │\n",
       "│           ┆ Bulldogs  ┆           ┆           ┆   ┆           ┆           ┆           ┆          │\n",
       "│ I.        ┆ Mississip ┆ 12        ┆ 1203      ┆ … ┆ 1.8       ┆ 1         ┆ 100.0     ┆ 0.82     │\n",
       "│ Izquierdo ┆ pi St.    ┆           ┆           ┆   ┆           ┆           ┆           ┆          │\n",
       "│           ┆ Bulldogs  ┆           ┆           ┆   ┆           ┆           ┆           ┆          │\n",
       "│ M.        ┆ Mississip ┆ 12        ┆ 1203      ┆ … ┆ 0.0       ┆ 0         ┆ 0.0       ┆ 0.0      │\n",
       "│ Anderson  ┆ pi St.    ┆           ┆           ┆   ┆           ┆           ┆           ┆          │\n",
       "│           ┆ Bulldogs  ┆           ┆           ┆   ┆           ┆           ┆           ┆          │\n",
       "└───────────┴───────────┴───────────┴───────────┴───┴───────────┴───────────┴───────────┴──────────┘"
      ]
     },
     "execution_count": 7,
     "metadata": {},
     "output_type": "execute_result"
    }
   ],
   "source": [
    "msu_attacking = msu_attacking.filter(pl.col(\"Minutes played\") > 0)\n",
    "sec_attacking = sec_attacking.filter(pl.col(\"Minutes played\") > 0)\n",
    "sec_attacking.head()"
   ]
  },
  {
   "cell_type": "markdown",
   "id": "87d82f99-7caa-4250-b140-73fbf2b3b4b8",
   "metadata": {},
   "source": [
    "Let's think about output. We want some baseline stats as a reference.\n",
    "\n",
    "We'll use medians to help control for outliers in our small dataset."
   ]
  },
  {
   "cell_type": "markdown",
   "id": "c743987b-529c-48d5-8391-cae8b14d8eb9",
   "metadata": {},
   "source": [
    "# MSU SEC AVERAGES FROM 2023\n",
    "\n",
    "Get measures only for performance for MSU players in SEC games in 2023"
   ]
  }
 ],
 "metadata": {
  "kernelspec": {
   "display_name": "Python 3 (ipykernel)",
   "language": "python",
   "name": "python3"
  },
  "language_info": {
   "codemirror_mode": {
    "name": "ipython",
    "version": 3
   },
   "file_extension": ".py",
   "mimetype": "text/x-python",
   "name": "python",
   "nbconvert_exporter": "python",
   "pygments_lexer": "ipython3",
   "version": "3.12.5"
  }
 },
 "nbformat": 4,
 "nbformat_minor": 5
}
