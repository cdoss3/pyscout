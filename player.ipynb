{
 "cells": [
  {
   "cell_type": "markdown",
   "id": "acd6f5d0-6f86-45c0-b1d9-0d31ab6a9332",
   "metadata": {},
   "source": [
    "# PERFORMANCE ANALYSIS\n",
    "\n",
    "### Player: Ilana Izquierdo\n",
    "\n",
    "### Team: Mississippi State University\n",
    "\n",
    "Comparing player performance so far in 2024 to performance in 2023\n",
    "\n",
    "Import packages"
   ]
  },
  {
   "cell_type": "code",
   "execution_count": 2,
   "id": "7fdf4209-228b-40de-9278-a254a7c43f58",
   "metadata": {},
   "outputs": [],
   "source": [
    "import polars as pl\n",
    "\n",
    "sec = pl.read_csv('../izquierdo_23_sec.csv')\n",
    "non23 = pl.read_csv('../izquierdo_23_nonconf.csv')\n",
    "non24 = pl.read_csv('../izquierdo_24_nonconf.csv')"
   ]
  },
  {
   "cell_type": "code",
   "execution_count": 4,
   "id": "b7149f6f-bbb4-4875-91fb-2319139e994d",
   "metadata": {},
   "outputs": [
    {
     "name": "stdout",
     "output_type": "stream",
     "text": [
      "\n",
      "Match\n",
      "Competition\n",
      "Date\n",
      "Position\n",
      "Minutes played\n",
      "Total actions / successful\n",
      "Unnamed: 6\n",
      "Goals\n",
      "Assists\n",
      "Shots / on target\n",
      "Unnamed: 10\n",
      "xG\n",
      "Passes / accurate\n",
      "Unnamed: 13\n",
      "Long passes / accurate\n",
      "Unnamed: 15\n",
      "Crosses / accurate\n",
      "Unnamed: 17\n",
      "Dribbles / successful\n",
      "Unnamed: 19\n",
      "Duels / won\n",
      "Unnamed: 21\n",
      "Aerial duels / won\n",
      "Unnamed: 23\n",
      "Interceptions\n",
      "Losses / own half\n",
      "Unnamed: 26\n",
      "Recoveries / opp. half\n",
      "Unnamed: 28\n",
      "Yellow card\n",
      "Red card\n"
     ]
    }
   ],
   "source": [
    "for column in sec.columns:\n",
    "    print(column)"
   ]
  }
 ],
 "metadata": {
  "kernelspec": {
   "display_name": "Python 3 (ipykernel)",
   "language": "python",
   "name": "python3"
  },
  "language_info": {
   "codemirror_mode": {
    "name": "ipython",
    "version": 3
   },
   "file_extension": ".py",
   "mimetype": "text/x-python",
   "name": "python",
   "nbconvert_exporter": "python",
   "pygments_lexer": "ipython3",
   "version": "3.12.5"
  }
 },
 "nbformat": 4,
 "nbformat_minor": 5
}
