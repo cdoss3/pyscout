{
 "cells": [
  {
   "cell_type": "markdown",
   "id": "acd6f5d0-6f86-45c0-b1d9-0d31ab6a9332",
   "metadata": {},
   "source": [
    "# PERFORMANCE ANALYSIS\n",
    "\n",
    "### Player: Ilana Izquierdo\n",
    "\n",
    "### Team: Mississippi State University\n",
    "\n",
    "Comparing player performance so far in 2024 to performance in 2023\n",
    "\n",
    "Import packages"
   ]
  },
  {
   "cell_type": "code",
   "execution_count": 1,
   "id": "7fdf4209-228b-40de-9278-a254a7c43f58",
   "metadata": {},
   "outputs": [],
   "source": [
    "import polars as pl\n",
    "\n",
    "sec = pl.read_csv('../izquierdo_23_sec.csv')\n",
    "non23 = pl.read_csv('../izquierdo_23_nonconf.csv')\n",
    "non24 = pl.read_csv('../izquierdo_24_nonconf.csv')"
   ]
  },
  {
   "cell_type": "code",
   "execution_count": 2,
   "id": "b7149f6f-bbb4-4875-91fb-2319139e994d",
   "metadata": {},
   "outputs": [
    {
     "name": "stdout",
     "output_type": "stream",
     "text": [
      "\n",
      "Match\n",
      "Competition\n",
      "Date\n",
      "Position\n",
      "Minutes played\n",
      "Total actions\n",
      "Successful actions\n",
      "Goals\n",
      "Assists\n",
      "Shots\n",
      "Shots on target\n",
      "xG\n",
      "Passes attempted\n",
      "Passes completed\n",
      "Long passes attempted\n",
      "Long passes completed\n",
      "Crosses attempted\n",
      "Crosses completed\n",
      "Dribbles attempted\n",
      "Dribbles completed\n",
      "Duels attempted\n",
      "Duels won\n",
      "Aerial duels attempted\n",
      "Aerial duels won\n",
      "Interceptions\n",
      "Lost possession\n",
      "Lost possession in own half\n",
      "Recovered ball\n",
      "Recovered ball in opp half\n",
      "Yellow card\n",
      "Red card\n",
      "Defensive duels\n",
      "Defensive duels won\n",
      "Loose ball duels\n",
      "Loose ball duels won\n",
      "Sliding tackles attempted\n",
      "Sliding tackles successful\n",
      "Clearances\n",
      "Fouls\n",
      "Yellow cards\n",
      "Red cards\n",
      "Shot assists\n",
      "Offensive duels attempted\n",
      "Offensive duels won\n",
      "Touches in penalty area\n",
      "Offsides\n",
      "Progressive runs\n",
      "Fouls suffered\n",
      "Through balls attempted\n",
      "Through balls completed\n",
      "xA\n",
      "Second assists\n",
      "Passes to final third attempted\n",
      "Passes to final third successful\n",
      "Passes to penalty area attempted\n",
      "Passes to penalty area successful\n",
      "Received passes\n",
      "Forward passes attempted\n",
      "Forward passes completed\n",
      "Back passes attempted\n",
      "Back passes completed\n",
      "Conceded goals\n",
      "xCG\n",
      "Shots against\n",
      "Saves\n",
      "Reflex saves\n",
      "Exits\n",
      "Passes to GK attempted\n",
      "passes to GK completed\n",
      "Goal kicks\n",
      "Short goal kicks\n",
      "Long goal kicks\n"
     ]
    }
   ],
   "source": [
    "for column in sec.columns:\n",
    "    print(column)"
   ]
  },
  {
   "cell_type": "code",
   "execution_count": 3,
   "id": "2fd5f9df-26d6-49ec-8547-96d29a39d1b0",
   "metadata": {},
   "outputs": [
    {
     "data": {
      "text/html": [
       "<div><style>\n",
       ".dataframe > thead > tr,\n",
       ".dataframe > tbody > tr {\n",
       "  text-align: right;\n",
       "  white-space: pre-wrap;\n",
       "}\n",
       "</style>\n",
       "<small>shape: (5, 73)</small><table border=\"1\" class=\"dataframe\"><thead><tr><th></th><th>Match</th><th>Competition</th><th>Date</th><th>Position</th><th>Minutes played</th><th>Total actions</th><th>Successful actions</th><th>Goals</th><th>Assists</th><th>Shots</th><th>Shots on target</th><th>xG</th><th>Passes attempted</th><th>Passes completed</th><th>Long passes attempted</th><th>Long passes completed</th><th>Crosses attempted</th><th>Crosses completed</th><th>Dribbles attempted</th><th>Dribbles completed</th><th>Duels attempted</th><th>Duels won</th><th>Aerial duels attempted</th><th>Aerial duels won</th><th>Interceptions</th><th>Lost possession</th><th>Lost possession in own half</th><th>Recovered ball</th><th>Recovered ball in opp half</th><th>Yellow card</th><th>Red card</th><th>Defensive duels</th><th>Defensive duels won</th><th>Loose ball duels</th><th>Loose ball duels won</th><th>Sliding tackles attempted</th><th>Sliding tackles successful</th><th>Clearances</th><th>Fouls</th><th>Yellow cards</th><th>Red cards</th><th>Shot assists</th><th>Offensive duels attempted</th><th>Offensive duels won</th><th>Touches in penalty area</th><th>Offsides</th><th>Progressive runs</th><th>Fouls suffered</th><th>Through balls attempted</th><th>Through balls completed</th><th>xA</th><th>Second assists</th><th>Passes to final third attempted</th><th>Passes to final third successful</th><th>Passes to penalty area attempted</th><th>Passes to penalty area successful</th><th>Received passes</th><th>Forward passes attempted</th><th>Forward passes completed</th><th>Back passes attempted</th><th>Back passes completed</th><th>Conceded goals</th><th>xCG</th><th>Shots against</th><th>Saves</th><th>Reflex saves</th><th>Exits</th><th>Passes to GK attempted</th><th>passes to GK completed</th><th>Goal kicks</th><th>Short goal kicks</th><th>Long goal kicks</th></tr><tr><td>i64</td><td>str</td><td>str</td><td>str</td><td>str</td><td>i64</td><td>i64</td><td>i64</td><td>i64</td><td>i64</td><td>i64</td><td>i64</td><td>f64</td><td>i64</td><td>i64</td><td>i64</td><td>i64</td><td>i64</td><td>i64</td><td>i64</td><td>i64</td><td>i64</td><td>i64</td><td>i64</td><td>i64</td><td>i64</td><td>i64</td><td>i64</td><td>i64</td><td>i64</td><td>i64</td><td>i64</td><td>i64</td><td>i64</td><td>i64</td><td>i64</td><td>i64</td><td>i64</td><td>i64</td><td>i64</td><td>i64</td><td>i64</td><td>i64</td><td>i64</td><td>i64</td><td>i64</td><td>i64</td><td>i64</td><td>i64</td><td>i64</td><td>i64</td><td>f64</td><td>i64</td><td>i64</td><td>i64</td><td>i64</td><td>i64</td><td>i64</td><td>i64</td><td>i64</td><td>i64</td><td>i64</td><td>i64</td><td>i64</td><td>i64</td><td>i64</td><td>i64</td><td>i64</td><td>i64</td><td>i64</td><td>i64</td><td>i64</td><td>i64</td></tr></thead><tbody><tr><td>0</td><td>&quot;Arkansas Razorbacks - Mississi…</td><td>&quot;United States. NCAA D1 SEC (W)&quot;</td><td>&quot;2023-11-03&quot;</td><td>&quot;LCMF&quot;</td><td>97</td><td>86</td><td>42</td><td>0</td><td>0</td><td>0</td><td>0</td><td>0.0</td><td>45</td><td>26</td><td>9</td><td>4</td><td>0</td><td>0</td><td>1</td><td>1</td><td>29</td><td>14</td><td>9</td><td>3</td><td>14</td><td>20</td><td>12</td><td>18</td><td>3</td><td>0</td><td>0</td><td>8</td><td>6</td><td>7</td><td>3</td><td>2</td><td>2</td><td>4</td><td>1</td><td>0</td><td>0</td><td>0</td><td>5</td><td>2</td><td>0</td><td>0</td><td>0</td><td>2</td><td>0</td><td>0</td><td>0.0</td><td>0</td><td>7</td><td>3</td><td>1</td><td>1</td><td>19</td><td>29</td><td>16</td><td>2</td><td>1</td><td>0</td><td>0</td><td>0</td><td>0</td><td>0</td><td>0</td><td>0</td><td>0</td><td>0</td><td>0</td><td>0</td></tr><tr><td>1</td><td>&quot;Mississippi St. Bulldogs - Ala…</td><td>&quot;United States. NCAA D1 SEC (W)&quot;</td><td>&quot;2023-11-01&quot;</td><td>&quot;LCMF, RCMF&quot;</td><td>118</td><td>73</td><td>38</td><td>0</td><td>0</td><td>0</td><td>0</td><td>0.0</td><td>46</td><td>30</td><td>1</td><td>0</td><td>1</td><td>1</td><td>1</td><td>0</td><td>16</td><td>4</td><td>3</td><td>1</td><td>12</td><td>19</td><td>10</td><td>19</td><td>8</td><td>0</td><td>0</td><td>4</td><td>1</td><td>5</td><td>2</td><td>1</td><td>1</td><td>3</td><td>0</td><td>0</td><td>0</td><td>2</td><td>4</td><td>0</td><td>1</td><td>0</td><td>1</td><td>0</td><td>0</td><td>0</td><td>0.04</td><td>0</td><td>7</td><td>4</td><td>1</td><td>1</td><td>18</td><td>20</td><td>11</td><td>4</td><td>4</td><td>0</td><td>0</td><td>0</td><td>0</td><td>0</td><td>0</td><td>0</td><td>0</td><td>0</td><td>0</td><td>0</td></tr><tr><td>2</td><td>&quot;Arkansas Razorbacks - Mississi…</td><td>&quot;United States. NCAA D1 SEC (W)&quot;</td><td>&quot;2023-10-27&quot;</td><td>&quot;RCMF, RDMF&quot;</td><td>94</td><td>61</td><td>29</td><td>0</td><td>0</td><td>0</td><td>0</td><td>0.0</td><td>24</td><td>16</td><td>3</td><td>2</td><td>1</td><td>0</td><td>1</td><td>1</td><td>22</td><td>12</td><td>3</td><td>0</td><td>14</td><td>17</td><td>12</td><td>11</td><td>3</td><td>77</td><td>0</td><td>9</td><td>8</td><td>4</td><td>0</td><td>0</td><td>0</td><td>11</td><td>1</td><td>1</td><td>0</td><td>2</td><td>6</td><td>4</td><td>2</td><td>0</td><td>0</td><td>4</td><td>0</td><td>0</td><td>0.12</td><td>0</td><td>2</td><td>1</td><td>2</td><td>1</td><td>11</td><td>15</td><td>11</td><td>0</td><td>0</td><td>0</td><td>0</td><td>0</td><td>0</td><td>0</td><td>0</td><td>0</td><td>0</td><td>0</td><td>0</td><td>0</td></tr><tr><td>3</td><td>&quot;Alabama Crimson Tide - Mississ…</td><td>&quot;United States. NCAA D1 SEC (W)&quot;</td><td>&quot;2023-10-23&quot;</td><td>&quot;RDMF&quot;</td><td>96</td><td>84</td><td>46</td><td>0</td><td>0</td><td>0</td><td>0</td><td>0.0</td><td>45</td><td>36</td><td>3</td><td>0</td><td>0</td><td>0</td><td>0</td><td>0</td><td>24</td><td>8</td><td>4</td><td>0</td><td>10</td><td>10</td><td>3</td><td>12</td><td>4</td><td>0</td><td>0</td><td>5</td><td>4</td><td>5</td><td>1</td><td>0</td><td>0</td><td>1</td><td>0</td><td>0</td><td>0</td><td>1</td><td>10</td><td>3</td><td>0</td><td>0</td><td>1</td><td>2</td><td>0</td><td>0</td><td>0.01</td><td>2</td><td>6</td><td>3</td><td>3</td><td>1</td><td>22</td><td>15</td><td>9</td><td>10</td><td>9</td><td>0</td><td>0</td><td>0</td><td>0</td><td>0</td><td>0</td><td>0</td><td>0</td><td>0</td><td>0</td><td>0</td></tr><tr><td>4</td><td>&quot;Mississippi St. Bulldogs - Van…</td><td>&quot;United States. NCAA D1 SEC (W)&quot;</td><td>&quot;2023-10-20&quot;</td><td>&quot;LDMF, RDMF&quot;</td><td>93</td><td>78</td><td>50</td><td>0</td><td>0</td><td>2</td><td>1</td><td>0.32</td><td>52</td><td>42</td><td>2</td><td>0</td><td>0</td><td>0</td><td>2</td><td>1</td><td>18</td><td>6</td><td>0</td><td>0</td><td>8</td><td>11</td><td>3</td><td>9</td><td>5</td><td>0</td><td>0</td><td>8</td><td>4</td><td>2</td><td>0</td><td>0</td><td>0</td><td>1</td><td>0</td><td>0</td><td>0</td><td>1</td><td>8</td><td>2</td><td>2</td><td>0</td><td>2</td><td>0</td><td>2</td><td>0</td><td>0.06</td><td>0</td><td>7</td><td>7</td><td>4</td><td>1</td><td>29</td><td>18</td><td>12</td><td>12</td><td>11</td><td>0</td><td>0</td><td>0</td><td>0</td><td>0</td><td>0</td><td>2</td><td>2</td><td>0</td><td>0</td><td>0</td></tr></tbody></table></div>"
      ],
      "text/plain": [
       "shape: (5, 73)\n",
       "┌─────┬─────────────┬─────────────┬─────────────┬───┬────────────┬───────┬────────────┬────────────┐\n",
       "│     ┆ Match       ┆ Competition ┆ Date        ┆ … ┆ passes to  ┆ Goal  ┆ Short goal ┆ Long goal  │\n",
       "│ --- ┆ ---         ┆ ---         ┆ ---         ┆   ┆ GK         ┆ kicks ┆ kicks      ┆ kicks      │\n",
       "│ i64 ┆ str         ┆ str         ┆ str         ┆   ┆ completed  ┆ ---   ┆ ---        ┆ ---        │\n",
       "│     ┆             ┆             ┆             ┆   ┆ ---        ┆ i64   ┆ i64        ┆ i64        │\n",
       "│     ┆             ┆             ┆             ┆   ┆ i64        ┆       ┆            ┆            │\n",
       "╞═════╪═════════════╪═════════════╪═════════════╪═══╪════════════╪═══════╪════════════╪════════════╡\n",
       "│ 0   ┆ Arkansas    ┆ United      ┆ 2023-11-03  ┆ … ┆ 0          ┆ 0     ┆ 0          ┆ 0          │\n",
       "│     ┆ Razorbacks  ┆ States.     ┆             ┆   ┆            ┆       ┆            ┆            │\n",
       "│     ┆ - Mississi… ┆ NCAA D1 SEC ┆             ┆   ┆            ┆       ┆            ┆            │\n",
       "│     ┆             ┆ (W)         ┆             ┆   ┆            ┆       ┆            ┆            │\n",
       "│ 1   ┆ Mississippi ┆ United      ┆ 2023-11-01  ┆ … ┆ 0          ┆ 0     ┆ 0          ┆ 0          │\n",
       "│     ┆ St.         ┆ States.     ┆             ┆   ┆            ┆       ┆            ┆            │\n",
       "│     ┆ Bulldogs -  ┆ NCAA D1 SEC ┆             ┆   ┆            ┆       ┆            ┆            │\n",
       "│     ┆ Ala…        ┆ (W)         ┆             ┆   ┆            ┆       ┆            ┆            │\n",
       "│ 2   ┆ Arkansas    ┆ United      ┆ 2023-10-27  ┆ … ┆ 0          ┆ 0     ┆ 0          ┆ 0          │\n",
       "│     ┆ Razorbacks  ┆ States.     ┆             ┆   ┆            ┆       ┆            ┆            │\n",
       "│     ┆ - Mississi… ┆ NCAA D1 SEC ┆             ┆   ┆            ┆       ┆            ┆            │\n",
       "│     ┆             ┆ (W)         ┆             ┆   ┆            ┆       ┆            ┆            │\n",
       "│ 3   ┆ Alabama     ┆ United      ┆ 2023-10-23  ┆ … ┆ 0          ┆ 0     ┆ 0          ┆ 0          │\n",
       "│     ┆ Crimson     ┆ States.     ┆             ┆   ┆            ┆       ┆            ┆            │\n",
       "│     ┆ Tide -      ┆ NCAA D1 SEC ┆             ┆   ┆            ┆       ┆            ┆            │\n",
       "│     ┆ Mississ…    ┆ (W)         ┆             ┆   ┆            ┆       ┆            ┆            │\n",
       "│ 4   ┆ Mississippi ┆ United      ┆ 2023-10-20  ┆ … ┆ 2          ┆ 0     ┆ 0          ┆ 0          │\n",
       "│     ┆ St.         ┆ States.     ┆             ┆   ┆            ┆       ┆            ┆            │\n",
       "│     ┆ Bulldogs -  ┆ NCAA D1 SEC ┆             ┆   ┆            ┆       ┆            ┆            │\n",
       "│     ┆ Van…        ┆ (W)         ┆             ┆   ┆            ┆       ┆            ┆            │\n",
       "└─────┴─────────────┴─────────────┴─────────────┴───┴────────────┴───────┴────────────┴────────────┘"
      ]
     },
     "execution_count": 3,
     "metadata": {},
     "output_type": "execute_result"
    }
   ],
   "source": [
    "sec.head()"
   ]
  },
  {
   "cell_type": "markdown",
   "id": "8ed541b2-d22a-4088-a728-f40d9a07ce38",
   "metadata": {},
   "source": [
    "Averages taken on these numbers will be the average per game. Once again, we're median-obsessed."
   ]
  },
  {
   "cell_type": "code",
   "execution_count": 4,
   "id": "132f1486-b02c-4166-8592-10f8d3ad8ec0",
   "metadata": {},
   "outputs": [],
   "source": [
    "sec_avgs = {}\n",
    "\n",
    "for column in sec.columns:\n",
    "    if type(column) != 'str':\n",
    "        sec_avgs[column] = sec[column].mean()\n",
    "\n",
    "#for key, value in sec_avgs.items():\n",
    "#    print(f\"{key}: {value}\")"
   ]
  },
  {
   "cell_type": "code",
   "execution_count": 5,
   "id": "7272afc8-1c34-41dd-9d44-074490c26623",
   "metadata": {},
   "outputs": [],
   "source": [
    "non23_avgs = {}\n",
    "\n",
    "for column in non23.columns:\n",
    "    if type(column) != 'str':\n",
    "        non23_avgs[column] = non23[column].mean()\n",
    "\n",
    "#for key, value in non23_avgs.items():\n",
    "#    print(f\"{key}: {value}\")"
   ]
  },
  {
   "cell_type": "code",
   "execution_count": 6,
   "id": "527b01cc-3cfa-4c11-8a15-3b8c8babf348",
   "metadata": {},
   "outputs": [],
   "source": [
    "non24_avgs = {}\n",
    "\n",
    "for column in non24.columns:\n",
    "    if type(column) != 'str':\n",
    "        non24_avgs[column] = non24[column].mean()\n",
    "\n",
    "#for key, value in non24_avgs.items():\n",
    "#    print(f\"{key}: {value}\")"
   ]
  },
  {
   "cell_type": "markdown",
   "id": "92d6e40c-947d-4f43-b1fd-a4b3c7a832ad",
   "metadata": {},
   "source": [
    "Change the \"Competition\" value in each DataFrame to represent the season and subset the DataFrame references"
   ]
  },
  {
   "cell_type": "code",
   "execution_count": 7,
   "id": "aa7dc39a-3467-468d-9b50-f1c65baf4293",
   "metadata": {},
   "outputs": [],
   "source": [
    "non23_avgs['Competition'] = '2023 Non-Conference'\n",
    "sec_avgs['Competition'] = '2023 SEC'\n",
    "non24_avgs['Competition'] = '2024 Non-Conference'"
   ]
  },
  {
   "cell_type": "code",
   "execution_count": 8,
   "id": "744029a4-1652-4733-88d5-1b9573ad6421",
   "metadata": {},
   "outputs": [],
   "source": [
    "avgs = pl.from_dicts([non23_avgs, sec_avgs, non24_avgs])"
   ]
  },
  {
   "cell_type": "markdown",
   "id": "c98d60f9-f319-479f-84ba-14c996028551",
   "metadata": {},
   "source": [
    "Let's take away the null and uninteresting columns"
   ]
  },
  {
   "cell_type": "code",
   "execution_count": 9,
   "id": "4d0de134-dcd4-44c1-892c-ccd183006b1d",
   "metadata": {},
   "outputs": [
    {
     "data": {
      "text/html": [
       "<div><style>\n",
       ".dataframe > thead > tr,\n",
       ".dataframe > tbody > tr {\n",
       "  text-align: right;\n",
       "  white-space: pre-wrap;\n",
       "}\n",
       "</style>\n",
       "<small>shape: (3, 59)</small><table border=\"1\" class=\"dataframe\"><thead><tr><th></th><th>Competition</th><th>Minutes played</th><th>Total actions</th><th>Successful actions</th><th>Goals</th><th>Assists</th><th>Shots</th><th>Shots on target</th><th>xG</th><th>Passes attempted</th><th>Passes completed</th><th>Long passes attempted</th><th>Long passes completed</th><th>Crosses attempted</th><th>Crosses completed</th><th>Dribbles attempted</th><th>Dribbles completed</th><th>Duels attempted</th><th>Duels won</th><th>Aerial duels attempted</th><th>Aerial duels won</th><th>Interceptions</th><th>Lost possession</th><th>Lost possession in own half</th><th>Recovered ball</th><th>Recovered ball in opp half</th><th>Yellow card</th><th>Red card</th><th>Defensive duels</th><th>Defensive duels won</th><th>Loose ball duels</th><th>Loose ball duels won</th><th>Sliding tackles attempted</th><th>Sliding tackles successful</th><th>Clearances</th><th>Fouls</th><th>Yellow cards</th><th>Shot assists</th><th>Offensive duels attempted</th><th>Offensive duels won</th><th>Touches in penalty area</th><th>Progressive runs</th><th>Fouls suffered</th><th>Through balls attempted</th><th>Through balls completed</th><th>xA</th><th>Second assists</th><th>Passes to final third attempted</th><th>Passes to final third successful</th><th>Passes to penalty area attempted</th><th>Passes to penalty area successful</th><th>Received passes</th><th>Forward passes attempted</th><th>Forward passes completed</th><th>Back passes attempted</th><th>Back passes completed</th><th>Passes to GK attempted</th><th>passes to GK completed</th></tr><tr><td>f64</td><td>str</td><td>f64</td><td>f64</td><td>f64</td><td>f64</td><td>f64</td><td>f64</td><td>f64</td><td>f64</td><td>f64</td><td>f64</td><td>f64</td><td>f64</td><td>f64</td><td>f64</td><td>f64</td><td>f64</td><td>f64</td><td>f64</td><td>f64</td><td>f64</td><td>f64</td><td>f64</td><td>f64</td><td>f64</td><td>f64</td><td>f64</td><td>f64</td><td>f64</td><td>f64</td><td>f64</td><td>f64</td><td>f64</td><td>f64</td><td>f64</td><td>f64</td><td>f64</td><td>f64</td><td>f64</td><td>f64</td><td>f64</td><td>f64</td><td>f64</td><td>f64</td><td>f64</td><td>f64</td><td>f64</td><td>f64</td><td>f64</td><td>f64</td><td>f64</td><td>f64</td><td>f64</td><td>f64</td><td>f64</td><td>f64</td><td>f64</td><td>f64</td></tr></thead><tbody><tr><td>3.5</td><td>&quot;2023 Non-Conference&quot;</td><td>97.125</td><td>82.375</td><td>57.375</td><td>0.25</td><td>0.0</td><td>0.875</td><td>0.375</td><td>0.11875</td><td>51.625</td><td>43.0</td><td>2.0</td><td>1.25</td><td>0.375</td><td>0.125</td><td>0.875</td><td>0.625</td><td>19.75</td><td>11.125</td><td>1.625</td><td>1.0</td><td>6.125</td><td>11.5</td><td>4.75</td><td>12.875</td><td>6.75</td><td>0.0</td><td>0.0</td><td>9.625</td><td>6.875</td><td>3.0</td><td>1.125</td><td>0.75</td><td>0.5</td><td>1.875</td><td>1.25</td><td>0.0</td><td>2.0</td><td>5.5</td><td>2.125</td><td>0.875</td><td>0.375</td><td>1.25</td><td>0.25</td><td>0.125</td><td>0.26625</td><td>0.0</td><td>7.0</td><td>5.25</td><td>1.5</td><td>0.375</td><td>27.625</td><td>15.25</td><td>11.0</td><td>12.25</td><td>11.25</td><td>0.375</td><td>0.375</td></tr><tr><td>5.5</td><td>&quot;2023 SEC&quot;</td><td>100.25</td><td>69.75</td><td>40.25</td><td>0.166667</td><td>0.083333</td><td>0.75</td><td>0.416667</td><td>0.131667</td><td>38.75</td><td>29.583333</td><td>3.833333</td><td>1.5</td><td>0.333333</td><td>0.166667</td><td>0.833333</td><td>0.333333</td><td>19.166667</td><td>8.75</td><td>2.916667</td><td>0.75</td><td>8.5</td><td>11.916667</td><td>6.333333</td><td>12.5</td><td>4.916667</td><td>6.416667</td><td>0.0</td><td>7.25</td><td>4.333333</td><td>4.25</td><td>1.75</td><td>0.666667</td><td>0.583333</td><td>3.0</td><td>1.083333</td><td>0.083333</td><td>1.333333</td><td>4.75</td><td>1.916667</td><td>0.75</td><td>0.75</td><td>1.583333</td><td>0.333333</td><td>0.0</td><td>0.134167</td><td>0.166667</td><td>5.25</td><td>3.583333</td><td>1.416667</td><td>0.583333</td><td>19.916667</td><td>15.583333</td><td>9.583333</td><td>6.083333</td><td>5.666667</td><td>0.5</td><td>0.5</td></tr><tr><td>2.5</td><td>&quot;2024 Non-Conference&quot;</td><td>96.666667</td><td>64.833333</td><td>43.5</td><td>0.166667</td><td>0.166667</td><td>1.5</td><td>0.166667</td><td>0.186667</td><td>42.0</td><td>35.166667</td><td>3.0</td><td>1.666667</td><td>0.166667</td><td>0.166667</td><td>1.166667</td><td>0.5</td><td>15.166667</td><td>7.5</td><td>1.833333</td><td>0.833333</td><td>5.833333</td><td>10.0</td><td>3.166667</td><td>10.166667</td><td>6.0</td><td>0.0</td><td>0.0</td><td>5.833333</td><td>4.333333</td><td>2.5</td><td>1.333333</td><td>0.5</td><td>0.166667</td><td>0.666667</td><td>0.833333</td><td>0.0</td><td>1.5</td><td>5.0</td><td>1.0</td><td>0.5</td><td>0.333333</td><td>0.666667</td><td>0.666667</td><td>0.166667</td><td>0.113333</td><td>0.0</td><td>5.0</td><td>3.333333</td><td>1.0</td><td>0.333333</td><td>27.333333</td><td>11.166667</td><td>7.0</td><td>9.5</td><td>9.0</td><td>0.666667</td><td>0.666667</td></tr></tbody></table></div>"
      ],
      "text/plain": [
       "shape: (3, 59)\n",
       "┌─────┬────────────┬────────────┬────────────┬───┬────────────┬────────────┬───────────┬───────────┐\n",
       "│     ┆ Competitio ┆ Minutes    ┆ Total      ┆ … ┆ Back       ┆ Back       ┆ Passes to ┆ passes to │\n",
       "│ --- ┆ n          ┆ played     ┆ actions    ┆   ┆ passes     ┆ passes     ┆ GK        ┆ GK        │\n",
       "│ f64 ┆ ---        ┆ ---        ┆ ---        ┆   ┆ attempted  ┆ completed  ┆ attempted ┆ completed │\n",
       "│     ┆ str        ┆ f64        ┆ f64        ┆   ┆ ---        ┆ ---        ┆ ---       ┆ ---       │\n",
       "│     ┆            ┆            ┆            ┆   ┆ f64        ┆ f64        ┆ f64       ┆ f64       │\n",
       "╞═════╪════════════╪════════════╪════════════╪═══╪════════════╪════════════╪═══════════╪═══════════╡\n",
       "│ 3.5 ┆ 2023 Non-C ┆ 97.125     ┆ 82.375     ┆ … ┆ 12.25      ┆ 11.25      ┆ 0.375     ┆ 0.375     │\n",
       "│     ┆ onference  ┆            ┆            ┆   ┆            ┆            ┆           ┆           │\n",
       "│ 5.5 ┆ 2023 SEC   ┆ 100.25     ┆ 69.75      ┆ … ┆ 6.083333   ┆ 5.666667   ┆ 0.5       ┆ 0.5       │\n",
       "│ 2.5 ┆ 2024 Non-C ┆ 96.666667  ┆ 64.833333  ┆ … ┆ 9.5        ┆ 9.0        ┆ 0.666667  ┆ 0.666667  │\n",
       "│     ┆ onference  ┆            ┆            ┆   ┆            ┆            ┆           ┆           │\n",
       "└─────┴────────────┴────────────┴────────────┴───┴────────────┴────────────┴───────────┴───────────┘"
      ]
     },
     "execution_count": 9,
     "metadata": {},
     "output_type": "execute_result"
    }
   ],
   "source": [
    "avgs = avgs.drop(['Match', 'Date', 'Position', 'Red cards', 'Offsides', 'Conceded goals', 'xCG', 'Shots against', 'Saves', 'Reflex saves', 'Exits', 'Goal kicks', 'Short goal kicks', 'Long goal kicks'])\n",
    "\n",
    "avgs.head()"
   ]
  },
  {
   "cell_type": "markdown",
   "id": "27fab729-17b1-4f39-a840-e190474fe9e7",
   "metadata": {},
   "source": [
    "Let's add our own metrics"
   ]
  },
  {
   "cell_type": "code",
   "execution_count": 10,
   "id": "44834f20-bac0-4270-96b9-980dd7060ab1",
   "metadata": {},
   "outputs": [],
   "source": [
    "def percent_column(col1, col2, col_name):\n",
    "    return ((pl.col(col1) / pl.col(col2)) * 100).alias(col_name)"
   ]
  },
  {
   "cell_type": "code",
   "execution_count": 12,
   "id": "61af97a2-5843-4794-8cfa-0af03b9c2727",
   "metadata": {},
   "outputs": [
    {
     "data": {
      "text/html": [
       "<div><style>\n",
       ".dataframe > thead > tr,\n",
       ".dataframe > tbody > tr {\n",
       "  text-align: right;\n",
       "  white-space: pre-wrap;\n",
       "}\n",
       "</style>\n",
       "<small>shape: (3, 78)</small><table border=\"1\" class=\"dataframe\"><thead><tr><th></th><th>Competition</th><th>Minutes played</th><th>Total actions</th><th>Successful actions</th><th>Goals</th><th>Assists</th><th>Shots</th><th>Shots on target</th><th>xG</th><th>Passes attempted</th><th>Passes completed</th><th>Long passes attempted</th><th>Long passes completed</th><th>Crosses attempted</th><th>Crosses completed</th><th>Dribbles attempted</th><th>Dribbles completed</th><th>Duels attempted</th><th>Duels won</th><th>Aerial duels attempted</th><th>Aerial duels won</th><th>Interceptions</th><th>Lost possession</th><th>Lost possession in own half</th><th>Recovered ball</th><th>Recovered ball in opp half</th><th>Yellow card</th><th>Red card</th><th>Defensive duels</th><th>Defensive duels won</th><th>Loose ball duels</th><th>Loose ball duels won</th><th>Sliding tackles attempted</th><th>Sliding tackles successful</th><th>Clearances</th><th>Fouls</th><th>&hellip;</th><th>Touches in penalty area</th><th>Progressive runs</th><th>Fouls suffered</th><th>Through balls attempted</th><th>Through balls completed</th><th>xA</th><th>Second assists</th><th>Passes to final third attempted</th><th>Passes to final third successful</th><th>Passes to penalty area attempted</th><th>Passes to penalty area successful</th><th>Received passes</th><th>Forward passes attempted</th><th>Forward passes completed</th><th>Back passes attempted</th><th>Back passes completed</th><th>Passes to GK attempted</th><th>passes to GK completed</th><th>Action success rate</th><th>Passing completion rate</th><th>Shooting on target rate</th><th>Long passing success rate</th><th>Crossing completion rate</th><th>Dribbling success rate</th><th>Dueling win rate</th><th>Aerial dueling win rate</th><th>Defensive dueling win rate</th><th>Loose ball dueling win rate</th><th>Sliding tackle success rate</th><th>Offensive dueling win rate</th><th>Through ball completion rate</th><th>Passing success rate in final third</th><th>Passing success rate into penalty area</th><th>Forward passing success rate</th><th>Back passing success rate</th><th>% of passes played forward</th><th>% of passes played backward</th></tr><tr><td>f64</td><td>str</td><td>f64</td><td>f64</td><td>f64</td><td>f64</td><td>f64</td><td>f64</td><td>f64</td><td>f64</td><td>f64</td><td>f64</td><td>f64</td><td>f64</td><td>f64</td><td>f64</td><td>f64</td><td>f64</td><td>f64</td><td>f64</td><td>f64</td><td>f64</td><td>f64</td><td>f64</td><td>f64</td><td>f64</td><td>f64</td><td>f64</td><td>f64</td><td>f64</td><td>f64</td><td>f64</td><td>f64</td><td>f64</td><td>f64</td><td>f64</td><td>f64</td><td>&hellip;</td><td>f64</td><td>f64</td><td>f64</td><td>f64</td><td>f64</td><td>f64</td><td>f64</td><td>f64</td><td>f64</td><td>f64</td><td>f64</td><td>f64</td><td>f64</td><td>f64</td><td>f64</td><td>f64</td><td>f64</td><td>f64</td><td>f64</td><td>f64</td><td>f64</td><td>f64</td><td>f64</td><td>f64</td><td>f64</td><td>f64</td><td>f64</td><td>f64</td><td>f64</td><td>f64</td><td>f64</td><td>f64</td><td>f64</td><td>f64</td><td>f64</td><td>f64</td><td>f64</td></tr></thead><tbody><tr><td>3.5</td><td>&quot;2023 Non-Conference&quot;</td><td>97.125</td><td>82.375</td><td>57.375</td><td>0.25</td><td>0.0</td><td>0.875</td><td>0.375</td><td>0.11875</td><td>51.625</td><td>43.0</td><td>2.0</td><td>1.25</td><td>0.375</td><td>0.125</td><td>0.875</td><td>0.625</td><td>19.75</td><td>11.125</td><td>1.625</td><td>1.0</td><td>6.125</td><td>11.5</td><td>4.75</td><td>12.875</td><td>6.75</td><td>0.0</td><td>0.0</td><td>9.625</td><td>6.875</td><td>3.0</td><td>1.125</td><td>0.75</td><td>0.5</td><td>1.875</td><td>1.25</td><td>&hellip;</td><td>0.875</td><td>0.375</td><td>1.25</td><td>0.25</td><td>0.125</td><td>0.26625</td><td>0.0</td><td>7.0</td><td>5.25</td><td>1.5</td><td>0.375</td><td>27.625</td><td>15.25</td><td>11.0</td><td>12.25</td><td>11.25</td><td>0.375</td><td>0.375</td><td>69.650986</td><td>83.292978</td><td>42.857143</td><td>62.5</td><td>33.333333</td><td>71.428571</td><td>56.329114</td><td>61.538462</td><td>71.428571</td><td>37.5</td><td>66.666667</td><td>38.636364</td><td>50.0</td><td>75.0</td><td>25.0</td><td>72.131148</td><td>91.836735</td><td>29.539952</td><td>23.728814</td></tr><tr><td>5.5</td><td>&quot;2023 SEC&quot;</td><td>100.25</td><td>69.75</td><td>40.25</td><td>0.166667</td><td>0.083333</td><td>0.75</td><td>0.416667</td><td>0.131667</td><td>38.75</td><td>29.583333</td><td>3.833333</td><td>1.5</td><td>0.333333</td><td>0.166667</td><td>0.833333</td><td>0.333333</td><td>19.166667</td><td>8.75</td><td>2.916667</td><td>0.75</td><td>8.5</td><td>11.916667</td><td>6.333333</td><td>12.5</td><td>4.916667</td><td>6.416667</td><td>0.0</td><td>7.25</td><td>4.333333</td><td>4.25</td><td>1.75</td><td>0.666667</td><td>0.583333</td><td>3.0</td><td>1.083333</td><td>&hellip;</td><td>0.75</td><td>0.75</td><td>1.583333</td><td>0.333333</td><td>0.0</td><td>0.134167</td><td>0.166667</td><td>5.25</td><td>3.583333</td><td>1.416667</td><td>0.583333</td><td>19.916667</td><td>15.583333</td><td>9.583333</td><td>6.083333</td><td>5.666667</td><td>0.5</td><td>0.5</td><td>57.706093</td><td>76.344086</td><td>55.555556</td><td>39.130435</td><td>50.0</td><td>40.0</td><td>45.652174</td><td>25.714286</td><td>59.770115</td><td>41.176471</td><td>87.5</td><td>40.350877</td><td>0.0</td><td>68.253968</td><td>41.176471</td><td>61.497326</td><td>93.150685</td><td>40.215054</td><td>15.698925</td></tr><tr><td>2.5</td><td>&quot;2024 Non-Conference&quot;</td><td>96.666667</td><td>64.833333</td><td>43.5</td><td>0.166667</td><td>0.166667</td><td>1.5</td><td>0.166667</td><td>0.186667</td><td>42.0</td><td>35.166667</td><td>3.0</td><td>1.666667</td><td>0.166667</td><td>0.166667</td><td>1.166667</td><td>0.5</td><td>15.166667</td><td>7.5</td><td>1.833333</td><td>0.833333</td><td>5.833333</td><td>10.0</td><td>3.166667</td><td>10.166667</td><td>6.0</td><td>0.0</td><td>0.0</td><td>5.833333</td><td>4.333333</td><td>2.5</td><td>1.333333</td><td>0.5</td><td>0.166667</td><td>0.666667</td><td>0.833333</td><td>&hellip;</td><td>0.5</td><td>0.333333</td><td>0.666667</td><td>0.666667</td><td>0.166667</td><td>0.113333</td><td>0.0</td><td>5.0</td><td>3.333333</td><td>1.0</td><td>0.333333</td><td>27.333333</td><td>11.166667</td><td>7.0</td><td>9.5</td><td>9.0</td><td>0.666667</td><td>0.666667</td><td>67.095116</td><td>83.730159</td><td>11.111111</td><td>55.555556</td><td>100.0</td><td>42.857143</td><td>49.450549</td><td>45.454545</td><td>74.285714</td><td>53.333333</td><td>33.333333</td><td>20.0</td><td>25.0</td><td>66.666667</td><td>33.333333</td><td>62.686567</td><td>94.736842</td><td>26.587302</td><td>22.619048</td></tr></tbody></table></div>"
      ],
      "text/plain": [
       "shape: (3, 78)\n",
       "┌─────┬────────────┬────────────┬────────────┬───┬────────────┬────────────┬───────────┬───────────┐\n",
       "│     ┆ Competitio ┆ Minutes    ┆ Total      ┆ … ┆ Forward    ┆ Back       ┆ % of      ┆ % of      │\n",
       "│ --- ┆ n          ┆ played     ┆ actions    ┆   ┆ passing    ┆ passing    ┆ passes    ┆ passes    │\n",
       "│ f64 ┆ ---        ┆ ---        ┆ ---        ┆   ┆ success    ┆ success    ┆ played    ┆ played    │\n",
       "│     ┆ str        ┆ f64        ┆ f64        ┆   ┆ rate       ┆ rate       ┆ forward   ┆ backward  │\n",
       "│     ┆            ┆            ┆            ┆   ┆ ---        ┆ ---        ┆ ---       ┆ ---       │\n",
       "│     ┆            ┆            ┆            ┆   ┆ f64        ┆ f64        ┆ f64       ┆ f64       │\n",
       "╞═════╪════════════╪════════════╪════════════╪═══╪════════════╪════════════╪═══════════╪═══════════╡\n",
       "│ 3.5 ┆ 2023 Non-C ┆ 97.125     ┆ 82.375     ┆ … ┆ 72.131148  ┆ 91.836735  ┆ 29.539952 ┆ 23.728814 │\n",
       "│     ┆ onference  ┆            ┆            ┆   ┆            ┆            ┆           ┆           │\n",
       "│ 5.5 ┆ 2023 SEC   ┆ 100.25     ┆ 69.75      ┆ … ┆ 61.497326  ┆ 93.150685  ┆ 40.215054 ┆ 15.698925 │\n",
       "│ 2.5 ┆ 2024 Non-C ┆ 96.666667  ┆ 64.833333  ┆ … ┆ 62.686567  ┆ 94.736842  ┆ 26.587302 ┆ 22.619048 │\n",
       "│     ┆ onference  ┆            ┆            ┆   ┆            ┆            ┆           ┆           │\n",
       "└─────┴────────────┴────────────┴────────────┴───┴────────────┴────────────┴───────────┴───────────┘"
      ]
     },
     "execution_count": 12,
     "metadata": {},
     "output_type": "execute_result"
    }
   ],
   "source": [
    "avgs.with_columns(\n",
    "    [\n",
    "        ((pl.col(\"Successful actions\") / pl.col(\"Total actions\")) * 100).alias(\"Action success rate\"),\n",
    "        percent_column('Passes completed', 'Passes attempted', 'Passing completion rate'),\n",
    "        percent_column('Shots on target', 'Shots', 'Shooting on target rate'),\n",
    "        percent_column('Long passes completed', 'Long passes attempted', 'Long passing success rate'),\n",
    "        percent_column('Crosses completed', 'Crosses attempted', 'Crossing completion rate'),\n",
    "        percent_column('Dribbles completed', 'Dribbles attempted', 'Dribbling success rate'),\n",
    "        percent_column('Duels won', 'Duels attempted', 'Dueling win rate'),\n",
    "        percent_column('Aerial duels won', 'Aerial duels attempted', 'Aerial dueling win rate'),\n",
    "        percent_column('Defensive duels won', 'Defensive duels', 'Defensive dueling win rate'),\n",
    "        percent_column('Loose ball duels won', 'Loose ball duels', 'Loose ball dueling win rate'),\n",
    "        percent_column('Sliding tackles successful', 'Sliding tackles attempted', 'Sliding tackle success rate'),\n",
    "        percent_column('Offensive duels won', 'Offensive duels attempted', 'Offensive dueling win rate'),\n",
    "        percent_column('Through balls completed', 'Through balls attempted', 'Through ball completion rate'),\n",
    "        percent_column('Passes to final third successful', 'Passes to final third attempted', 'Passing success rate in final third'),\n",
    "        percent_column('Passes to penalty area successful', 'Passes to penalty area attempted', 'Passing success rate into penalty area'),\n",
    "        percent_column('Forward passes completed', 'Forward passes attempted', 'Forward passing success rate'),\n",
    "        percent_column('Back passes completed', 'Back passes attempted', 'Back passing success rate'),\n",
    "        percent_column('Forward passes attempted', 'Passes attempted', '% of passes played forward'),\n",
    "        percent_column('Back passes attempted', 'Passes attempted', '% of passes played backward'),\n",
    "    ]\n",
    ")"
   ]
  },
  {
   "cell_type": "code",
   "execution_count": 13,
   "id": "68e8df56-213b-4bb5-85b9-884ffc84e500",
   "metadata": {},
   "outputs": [
    {
     "ename": "ColumnNotFoundError",
     "evalue": "% of passes played forward",
     "output_type": "error",
     "traceback": [
      "\u001b[0;31m---------------------------------------------------------------------------\u001b[0m",
      "\u001b[0;31mColumnNotFoundError\u001b[0m                       Traceback (most recent call last)",
      "Cell \u001b[0;32mIn[13], line 1\u001b[0m\n\u001b[0;32m----> 1\u001b[0m \u001b[43mavgs\u001b[49m\u001b[38;5;241;43m.\u001b[39;49m\u001b[43mwith_columns\u001b[49m\u001b[43m(\u001b[49m\u001b[43m(\u001b[49m\u001b[38;5;241;43m100\u001b[39;49m\u001b[43m \u001b[49m\u001b[38;5;241;43m-\u001b[39;49m\u001b[43m \u001b[49m\u001b[43mpl\u001b[49m\u001b[38;5;241;43m.\u001b[39;49m\u001b[43mcol\u001b[49m\u001b[43m(\u001b[49m\u001b[38;5;124;43m'\u001b[39;49m\u001b[38;5;132;43;01m% o\u001b[39;49;00m\u001b[38;5;124;43mf passes played forward\u001b[39;49m\u001b[38;5;124;43m'\u001b[39;49m\u001b[43m)\u001b[49m\u001b[43m \u001b[49m\u001b[38;5;241;43m-\u001b[39;49m\u001b[43m \u001b[49m\u001b[43mpl\u001b[49m\u001b[38;5;241;43m.\u001b[39;49m\u001b[43mcol\u001b[49m\u001b[43m(\u001b[49m\u001b[38;5;124;43m'\u001b[39;49m\u001b[38;5;132;43;01m% o\u001b[39;49;00m\u001b[38;5;124;43mf passes played backward\u001b[39;49m\u001b[38;5;124;43m'\u001b[39;49m\u001b[43m)\u001b[49m\u001b[43m)\u001b[49m\u001b[38;5;241;43m.\u001b[39;49m\u001b[43malias\u001b[49m\u001b[43m(\u001b[49m\u001b[38;5;124;43m'\u001b[39;49m\u001b[38;5;132;43;01m% o\u001b[39;49;00m\u001b[38;5;124;43mf passes played laterally\u001b[39;49m\u001b[38;5;124;43m'\u001b[39;49m\u001b[43m)\u001b[49m\u001b[43m)\u001b[49m\n",
      "File \u001b[0;32m/usr/lib/python3.12/site-packages/polars/dataframe/frame.py:9046\u001b[0m, in \u001b[0;36mDataFrame.with_columns\u001b[0;34m(self, *exprs, **named_exprs)\u001b[0m\n\u001b[1;32m   8900\u001b[0m \u001b[38;5;28;01mdef\u001b[39;00m \u001b[38;5;21mwith_columns\u001b[39m(\n\u001b[1;32m   8901\u001b[0m     \u001b[38;5;28mself\u001b[39m,\n\u001b[1;32m   8902\u001b[0m     \u001b[38;5;241m*\u001b[39mexprs: IntoExpr \u001b[38;5;241m|\u001b[39m Iterable[IntoExpr],\n\u001b[1;32m   8903\u001b[0m     \u001b[38;5;241m*\u001b[39m\u001b[38;5;241m*\u001b[39mnamed_exprs: IntoExpr,\n\u001b[1;32m   8904\u001b[0m ) \u001b[38;5;241m-\u001b[39m\u001b[38;5;241m>\u001b[39m DataFrame:\n\u001b[1;32m   8905\u001b[0m \u001b[38;5;250m    \u001b[39m\u001b[38;5;124;03m\"\"\"\u001b[39;00m\n\u001b[1;32m   8906\u001b[0m \u001b[38;5;124;03m    Add columns to this DataFrame.\u001b[39;00m\n\u001b[1;32m   8907\u001b[0m \n\u001b[0;32m   (...)\u001b[0m\n\u001b[1;32m   9044\u001b[0m \u001b[38;5;124;03m    └─────┴──────┴─────────────┘\u001b[39;00m\n\u001b[1;32m   9045\u001b[0m \u001b[38;5;124;03m    \"\"\"\u001b[39;00m\n\u001b[0;32m-> 9046\u001b[0m     \u001b[38;5;28;01mreturn\u001b[39;00m \u001b[38;5;28;43mself\u001b[39;49m\u001b[38;5;241;43m.\u001b[39;49m\u001b[43mlazy\u001b[49m\u001b[43m(\u001b[49m\u001b[43m)\u001b[49m\u001b[38;5;241;43m.\u001b[39;49m\u001b[43mwith_columns\u001b[49m\u001b[43m(\u001b[49m\u001b[38;5;241;43m*\u001b[39;49m\u001b[43mexprs\u001b[49m\u001b[43m,\u001b[49m\u001b[43m \u001b[49m\u001b[38;5;241;43m*\u001b[39;49m\u001b[38;5;241;43m*\u001b[39;49m\u001b[43mnamed_exprs\u001b[49m\u001b[43m)\u001b[49m\u001b[38;5;241;43m.\u001b[39;49m\u001b[43mcollect\u001b[49m\u001b[43m(\u001b[49m\u001b[43m_eager\u001b[49m\u001b[38;5;241;43m=\u001b[39;49m\u001b[38;5;28;43;01mTrue\u001b[39;49;00m\u001b[43m)\u001b[49m\n",
      "File \u001b[0;32m/usr/lib/python3.12/site-packages/polars/lazyframe/frame.py:2034\u001b[0m, in \u001b[0;36mLazyFrame.collect\u001b[0;34m(self, type_coercion, predicate_pushdown, projection_pushdown, simplify_expression, slice_pushdown, comm_subplan_elim, comm_subexpr_elim, cluster_with_columns, no_optimization, streaming, engine, background, _eager, **_kwargs)\u001b[0m\n\u001b[1;32m   2032\u001b[0m \u001b[38;5;66;03m# Only for testing purposes\u001b[39;00m\n\u001b[1;32m   2033\u001b[0m callback \u001b[38;5;241m=\u001b[39m _kwargs\u001b[38;5;241m.\u001b[39mget(\u001b[38;5;124m\"\u001b[39m\u001b[38;5;124mpost_opt_callback\u001b[39m\u001b[38;5;124m\"\u001b[39m, callback)\n\u001b[0;32m-> 2034\u001b[0m \u001b[38;5;28;01mreturn\u001b[39;00m wrap_df(\u001b[43mldf\u001b[49m\u001b[38;5;241;43m.\u001b[39;49m\u001b[43mcollect\u001b[49m\u001b[43m(\u001b[49m\u001b[43mcallback\u001b[49m\u001b[43m)\u001b[49m)\n",
      "\u001b[0;31mColumnNotFoundError\u001b[0m: % of passes played forward"
     ]
    }
   ],
   "source": [
    "avgs.with_columns((100 - pl.col('% of passes played forward') - pl.col('% of passes played backward')).alias('% of passes played laterally'))"
   ]
  },
  {
   "cell_type": "code",
   "execution_count": null,
   "id": "4f20bfe9-3d34-40f9-864b-72e96f5b92ac",
   "metadata": {},
   "outputs": [],
   "source": [
    "avgs.write_csv('/home/cdoss/ilana_avgs')"
   ]
  }
 ],
 "metadata": {
  "kernelspec": {
   "display_name": "Python 3 (ipykernel)",
   "language": "python",
   "name": "python3"
  },
  "language_info": {
   "codemirror_mode": {
    "name": "ipython",
    "version": 3
   },
   "file_extension": ".py",
   "mimetype": "text/x-python",
   "name": "python",
   "nbconvert_exporter": "python",
   "pygments_lexer": "ipython3",
   "version": "3.12.5"
  }
 },
 "nbformat": 4,
 "nbformat_minor": 5
}
